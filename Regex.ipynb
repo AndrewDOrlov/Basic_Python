{
 "cells": [
  {
   "cell_type": "markdown",
   "id": "e00ab08a",
   "metadata": {},
   "source": [
    "# Regular expressions"
   ]
  },
  {
   "cell_type": "markdown",
   "id": "8c6ec476",
   "metadata": {},
   "source": [
    "Регулярное выражение — это последовательность символов, используемая для поиска и(или) замены некоторого паттерна в строке (тексте или файле)\n",
    "\n",
    "Регулярные выражения хороши, когда нам нужно вытащить из текста повторяющийся паттерн: номер телефона, конкретную фразу, адреса и тд.\n",
    "\n",
    "[онлайн-редактор для регулярных выражений](https://regex101.com/r/F8dY80/3)"
   ]
  },
  {
   "cell_type": "markdown",
   "id": "16ffebd7",
   "metadata": {},
   "source": [
    "Чтобы начать работать с регулярными выражениями в питоне, нам нужно импортировать модуль ``re`` или установить библиотеку regex: pip install regex\n",
    "\n",
    "* здесь [ссылка](https://docs.python.org/3/library/re.html) на его документацию и [ссылка на тьюториал](https://docs.python.org/3/howto/regex.html#regex-howto) \n"
   ]
  },
  {
   "cell_type": "code",
   "execution_count": 1,
   "id": "1f923774",
   "metadata": {},
   "outputs": [],
   "source": [
    "import re #library"
   ]
  },
  {
   "cell_type": "markdown",
   "id": "e592915f",
   "metadata": {},
   "source": [
    "### Main Symbols"
   ]
  },
  {
   "cell_type": "markdown",
   "id": "90f69426",
   "metadata": {
    "id": "XpHRKDczJAE0"
   },
   "source": [
    "<table width=\"100%\"><tbody><tr><th style=\"text-align: center;\" width=\"90\"><strong>Оператор</strong></th><th style=\"text-align: center;\" width=\"680\"><strong>Описание</strong></th></tr><tr><td width=\"90\"><tt>.</tt></td><td width=\"680\">Один любой символ, кроме новой строки <tt>\\n</tt>.</td></tr><tr><td width=\"90\"><tt>?</tt></td><td width=\"680\">0 или 1 вхождение шаблона слева</td></tr><tr><td width=\"90\"><tt>+</tt></td><td width=\"680\">1 и более вхождений шаблона слева</td></tr><tr><td width=\"90\"><tt>*</tt></td><td width=\"680\">0 и более вхождений шаблона слева</td></tr><tr><td width=\"90\"><tt>\\w</tt></td><td width=\"680\">Любая цифра или буква (<tt>\\W</tt> —&nbsp;все, кроме буквы или цифры)</td></tr><tr><td width=\"90\"><tt>\\d</tt></td><td width=\"680\">Любая цифра [0-9] (<tt>\\D</tt> —&nbsp;все, кроме цифры)</td></tr><tr><td width=\"90\"><tt>\\s</tt></td><td width=\"680\">Любой пробельный символ (<tt>\\S</tt> —&nbsp;любой непробельный символ)</td></tr><tr><td width=\"90\"><tt>\\b</tt></td><td width=\"680\">Граница слова</td></tr><tr><td width=\"90\"><tt>[..]</tt></td><td width=\"680\">Один из символов в скобках (<tt>[^..]</tt> —&nbsp;любой символ, кроме тех, что в скобках)</td></tr><tr><td width=\"90\"><tt>\\</tt></td><td width=\"680\">Экранирование специальных символов (<tt>\\.</tt> означает точку или <tt>\\+</tt> —&nbsp;знак «плюс»)</td></tr><tr><td width=\"90\"><tt>^</tt> и <tt>$</tt></td><td width=\"680\">Начало и конец строки соответственно</td></tr><tr><td width=\"90\"><tt>{n,m}</tt></td><td width=\"680\">От <tt>n</tt> до <tt>m</tt> вхождений (<tt>{,m}</tt> —&nbsp;от 0 до <tt>m</tt>)</td></tr><tr><td width=\"90\"><tt>a|b</tt></td><td width=\"680\">Соответствует <tt>a</tt> или <tt>b</tt></td></tr><tr><td width=\"90\"><tt>()</tt></td><td width=\"680\">Группирует выражение и возвращает найденный текст</td></tr><tr><td width=\"90\"><tt>\\t</tt>, <tt>\\n</tt>, <tt>\\r</tt></td><td width=\"680\">Символ табуляции, новой строки и возврата каретки соответственно</td></tr></tbody></table>\n",
    "\n",
    "\n",
    "[здесь](https://www.rexegg.com/regex-quickstart.html) развернутая таблица синтаксиса"
   ]
  },
  {
   "cell_type": "markdown",
   "id": "3305aca9",
   "metadata": {},
   "source": [
    "### re module functions"
   ]
  },
  {
   "cell_type": "markdown",
   "id": "66c8daa5",
   "metadata": {
    "id": "YHfoChoPJMKz"
   },
   "source": [
    "<div class=\"table\"><table>\n",
    "<thead>\n",
    "<tr>\n",
    "<th>Функция</th>\n",
    "<th>Что делает</th>\n",
    "</tr>\n",
    "</thead>\n",
    "<tbody>\n",
    "<tr>\n",
    "<td><code>re.match(pattern, string)</code></td>\n",
    "<td>Найти по заданному шаблону <code>pattern</code> первое совпадение в начале строки<code>string</code></td>\n",
    "</tr>\n",
    "<tr>\n",
    "<td><code>re.search(pattern, string)</code></td>\n",
    "<td>Найти в строке <code>string</code> первую строчку, подходящую под шаблон <code>pattern</code> <br>ищет по всей строке, но возвращает только первое найденное совпадение</br></td>\n",
    "</tr>\n",
    "<tr>\n",
    "<td><code>re.fullmatch(pattern, string)</code></td>\n",
    "<td>Проверить, подходит ли строка <code>string</code> под шаблон <code>pattern</code></td>\n",
    "</tr>\n",
    "<tr>\n",
    "<td><code>re.split(pattern, string, maxsplit=0)</code></td>\n",
    "<td>Аналог <code>str.split()</code>, только разделение происходит по подстрокам, подходящим под шаблон <code>pattern</code></td>\n",
    "</tr>\n",
    "<tr>\n",
    "<td><code>re.findall(pattern, string)</code></td>\n",
    "<td>Найти в строке <code>string</code> все непересекающиеся шаблоны <code>pattern</code></td>\n",
    "</tr>\n",
    "<tr>\n",
    "<td><code>re.sub(pattern, replace, string)</code></td>\n",
    "<td>Заменить в строке <code>string</code> все непересекающиеся шаблоны <code>pattern</code> на <code>replace</code></td>\n",
    "</tr>\n",
    "</tbody>\n",
    "</table></div>\n",
    "\n",
    "\n",
    "Давайте попробуем!"
   ]
  },
  {
   "cell_type": "markdown",
   "id": "8b76326c",
   "metadata": {},
   "source": [
    "## match (pattern, string)\n",
    "\n",
    "метод ищет подстроку по заданному шаблону в начале строки"
   ]
  },
  {
   "cell_type": "code",
   "execution_count": 4,
   "id": "b049ecf8",
   "metadata": {},
   "outputs": [],
   "source": [
    "text =  'Gorgonzola, ricotta! and mozarella? cheese went into the bar, met nachos.'"
   ]
  },
  {
   "cell_type": "code",
   "execution_count": 8,
   "id": "98b2b909",
   "metadata": {},
   "outputs": [
    {
     "name": "stdout",
     "output_type": "stream",
     "text": [
      "<re.Match object; span=(0, 10), match='Gorgonzola'>\n"
     ]
    }
   ],
   "source": [
    "result = re.match(r'Gorgonzola', text)\n",
    "# «r» перед строкой шаблона показывает, что это «сырая» строка в Python\n",
    "# не рассматривай \\ как экранирующий символ\n",
    "\n",
    "print(result)\n",
    "# попробуйте найти hello вместо Hello"
   ]
  },
  {
   "cell_type": "markdown",
   "id": "56720b5b",
   "metadata": {},
   "source": [
    "Чтобы вывести содержимое, используем метод .group() Он показывает вхождения искомого паттерна"
   ]
  },
  {
   "cell_type": "code",
   "execution_count": 9,
   "id": "929f4e76",
   "metadata": {},
   "outputs": [
    {
     "name": "stdout",
     "output_type": "stream",
     "text": [
      "Gorgonzola\n"
     ]
    }
   ],
   "source": [
    "print(result.group())"
   ]
  },
  {
   "cell_type": "markdown",
   "id": "692237d4",
   "metadata": {},
   "source": [
    "## fullmatch (pattern, string)\n",
    "\n",
    "проверяет, является ли паттерн полным совпадением со строкой"
   ]
  },
  {
   "cell_type": "code",
   "execution_count": 3,
   "id": "61268b5a",
   "metadata": {},
   "outputs": [
    {
     "name": "stdout",
     "output_type": "stream",
     "text": [
      "None\n"
     ]
    },
    {
     "ename": "AttributeError",
     "evalue": "'NoneType' object has no attribute 'group'",
     "output_type": "error",
     "traceback": [
      "\u001b[1;31m---------------------------------------------------------------------------\u001b[0m",
      "\u001b[1;31mAttributeError\u001b[0m                            Traceback (most recent call last)",
      "Cell \u001b[1;32mIn [3], line 6\u001b[0m\n\u001b[0;32m      1\u001b[0m result \u001b[38;5;241m=\u001b[39m re\u001b[38;5;241m.\u001b[39mfullmatch(\u001b[38;5;124mr\u001b[39m\u001b[38;5;124m'\u001b[39m\u001b[38;5;124mGorgonzola, ricotta! and mozarella? cheese went into the bar, met nachos.\u001b[39m\u001b[38;5;124m'\u001b[39m,\n\u001b[0;32m      2\u001b[0m                       \u001b[38;5;124m'\u001b[39m\u001b[38;5;124mGorgonzola, ricotta and mozarella cheese went into the bar, met nachos.\u001b[39m\u001b[38;5;124m'\u001b[39m)\n\u001b[0;32m      4\u001b[0m \u001b[38;5;28mprint\u001b[39m(result)\n\u001b[1;32m----> 6\u001b[0m \u001b[38;5;28mprint\u001b[39m(\u001b[43mresult\u001b[49m\u001b[38;5;241;43m.\u001b[39;49m\u001b[43mgroup\u001b[49m())\n",
      "\u001b[1;31mAttributeError\u001b[0m: 'NoneType' object has no attribute 'group'"
     ]
    }
   ],
   "source": [
    "result = re.fullmatch(r'Gorgonzola, ricotta! and mozarella? cheese went into the bar, met nachos.',\n",
    "                      'Gorgonzola, ricotta and mozarella cheese went into the bar, met nachos.')\n",
    "\n",
    "print(result)\n",
    "\n",
    "print(result.group())"
   ]
  },
  {
   "cell_type": "markdown",
   "id": "9ae5e74e",
   "metadata": {},
   "source": [
    "## search (pattern, string)\n",
    "\n",
    "Ищет паттерн по всей длине строки\n",
    "\n",
    "Вернется первое совпадение\n",
    "\n",
    "Примеры: [разница search и match](https://docs.python.org/3/library/re.html#search-vs-match)"
   ]
  },
  {
   "cell_type": "code",
   "execution_count": 19,
   "id": "d0cbfe39",
   "metadata": {},
   "outputs": [
    {
     "name": "stdout",
     "output_type": "stream",
     "text": [
      "<re.Match object; span=(24, 33), match='mozarella'>\n",
      "mozarella\n"
     ]
    }
   ],
   "source": [
    "result = re.search(r'mozarella', text)\n",
    "# print(result)\n",
    "\n",
    "print(result)\n",
    "\n",
    "print(result.group())"
   ]
  },
  {
   "cell_type": "markdown",
   "id": "b4e89c9c",
   "metadata": {},
   "source": [
    "## split (pattern, string, maxsplit=0)\n",
    "\n",
    "Похож на ```.split()```.\n",
    "\n",
    "Метод разделяет строку по заданному шаблону"
   ]
  },
  {
   "cell_type": "code",
   "execution_count": 24,
   "id": "7af4583a",
   "metadata": {},
   "outputs": [
    {
     "name": "stdout",
     "output_type": "stream",
     "text": [
      "['Gorgonzola,', 'ricotta', 'and', 'mozarella', 'cheese', 'went', 'into', 'the', 'bar,', 'met', 'nachos.']\n",
      "['Gorgonzola, ricotta and mozarella cheese went into the bar, met nachos.']\n"
     ]
    }
   ],
   "source": [
    "result = re.split(r'\\s',text) # любой пробельный символ\n",
    "res2 = re.split(\"\\.\\s\", text)\n",
    "print(result)\n",
    "print(res2)\n",
    "# здесь результат можно сразу напечатать без метода .group()"
   ]
  },
  {
   "cell_type": "code",
   "execution_count": 8,
   "id": "342f307a",
   "metadata": {},
   "outputs": [
    {
     "name": "stdout",
     "output_type": "stream",
     "text": [
      "Gorgonzola, ricotta! and mozarella? cheese went into the bar, met nachos.\n",
      "I love cheesy stories.\n",
      "['Gorgonzola, ricotta', 'and mozarella', 'cheese went into the bar, met nachos', 'I love cheesy stories.']\n"
     ]
    }
   ],
   "source": [
    "res3 = re.split(\"[\\.!\\?]\\s\", text + '\\nI love cheesy stories.')\n",
    "\n",
    "print(text + '\\nI love cheesy stories.')\n",
    "print(res3)\n",
    "\n",
    "# . + ? *\n",
    "#res3 = re.split(\"[\\.!?]\\s|?$\", text + '\\nHow are you?')\n",
    "# . - любой символ\n",
    "# \\. - точка, экранируем\n",
    "# ? - 0 или 1 любой символ\n",
    "# \\? - воспросительный знак\n",
    "#print(text + '\\nHow are you?')\n"
   ]
  },
  {
   "cell_type": "code",
   "execution_count": 30,
   "id": "94178f90",
   "metadata": {},
   "outputs": [
    {
     "name": "stdout",
     "output_type": "stream",
     "text": [
      "['Gorgonzola,', 'ricotta', 'and mozarella cheese went into the bar, met nachos.']\n"
     ]
    }
   ],
   "source": [
    "#maxsplit - опциональный аргумент.\n",
    "#Если его указать, то разделение будет произведено не более указанного количества раз\n",
    "\n",
    "result = re.split(r' ', text, maxsplit=2)\n",
    "\n",
    "print(result)"
   ]
  },
  {
   "cell_type": "markdown",
   "id": "9e1c46ab",
   "metadata": {},
   "source": [
    "## findall (pattern, string)"
   ]
  },
  {
   "cell_type": "code",
   "execution_count": 10,
   "id": "d67f8e5f",
   "metadata": {},
   "outputs": [
    {
     "name": "stdout",
     "output_type": "stream",
     "text": [
      "['bar']\n"
     ]
    }
   ],
   "source": [
    "result = re.findall(r'bar', text)\n",
    "print(result)"
   ]
  },
  {
   "cell_type": "code",
   "execution_count": 14,
   "id": "b77a3993",
   "metadata": {},
   "outputs": [
    {
     "name": "stdout",
     "output_type": "stream",
     "text": [
      "['mozarella? cheese went into the bar, met nachos.']\n"
     ]
    }
   ],
   "source": [
    "res2 = re.findall(r\"m.*\", text) # добавляем квантификатор *\n",
    "print(res2)"
   ]
  },
  {
   "cell_type": "code",
   "execution_count": 18,
   "id": "0fe05a29",
   "metadata": {
    "scrolled": true
   },
   "outputs": [
    {
     "ename": "NameError",
     "evalue": "name 'text' is not defined",
     "output_type": "error",
     "traceback": [
      "\u001b[1;31m---------------------------------------------------------------------------\u001b[0m",
      "\u001b[1;31mNameError\u001b[0m                                 Traceback (most recent call last)",
      "Cell \u001b[1;32mIn [18], line 2\u001b[0m\n\u001b[0;32m      1\u001b[0m \u001b[38;5;66;03m# попробуйте с буквой e  или r\u001b[39;00m\n\u001b[1;32m----> 2\u001b[0m result \u001b[38;5;241m=\u001b[39m re\u001b[38;5;241m.\u001b[39mfindall(\u001b[38;5;124mr\u001b[39m\u001b[38;5;124m'\u001b[39m\u001b[38;5;124m\\\u001b[39m\u001b[38;5;124mw*my\u001b[39m\u001b[38;5;124m'\u001b[39m, \u001b[43mtext\u001b[49m)\n\u001b[0;32m      3\u001b[0m \u001b[38;5;28mprint\u001b[39m(result)\n",
      "\u001b[1;31mNameError\u001b[0m: name 'text' is not defined"
     ]
    }
   ],
   "source": [
    "# попробуйте с буквой e  или r\n",
    "result = re.findall(r'\\w*my', text)\n",
    "print(result)"
   ]
  },
  {
   "cell_type": "markdown",
   "id": "b82cc904",
   "metadata": {},
   "source": [
    "## findall examples"
   ]
  },
  {
   "cell_type": "code",
   "execution_count": 15,
   "id": "356a0277",
   "metadata": {
    "scrolled": false
   },
   "outputs": [
    {
     "name": "stdout",
     "output_type": "stream",
     "text": [
      "['Two toads, terribly tired, trotted along the road.', 'Said toad number 1 12 to the toad number Two:', \"'I'm tired, and I'm carrying the load.\"]\n",
      "['1', '12']\n",
      "['1', '12']\n",
      "['1', '1', '2']\n",
      "['Two toads, terribly tired, trotted along the road.\\nSaid toad number ', ' ', \" to the toad number Two:\\n'I'm tired, and I'm carrying the load.\"]\n",
      "['Two', 'toads', 'terribly', 'tired', 'trotted', 'along', 'the', 'road', 'Said', 'toad', 'number', '1', '12', 'to', 'the', 'toad', 'number', 'Two', 'I', 'm', 'tired', 'and', 'I', 'm', 'carrying', 'the', 'load']\n",
      "[' ', ', ', ' ', ', ', ' ', ' ', ' ', '.\\n', ' ', ' ', ' ', ' ', ' ', ' ', ' ', ' ', ' ', \":\\n'\", \"'\", ' ', ', ', ' ', \"'\", ' ', ' ', ' ', '.']\n",
      "['T', 'w', 'o', 't', 'o', 'a', 'd', 's', 't', 'e', 'r', 'r', 'i', 'b', 'l', 'y', 't', 'i', 'r', 'e', 'd', 't', 'r', 'o', 't', 't', 'e', 'd', 'a', 'l', 'o', 'n', 'g', 't', 'h', 'e', 'r', 'o', 'a', 'd', 'S', 'a', 'i', 'd', 't', 'o', 'a', 'd', 'n', 'u', 'm', 'b', 'e', 'r', '1', '1', '2', 't', 'o', 't', 'h', 'e', 't', 'o', 'a', 'd', 'n', 'u', 'm', 'b', 'e', 'r', 'T', 'w', 'o', 'I', 'm', 't', 'i', 'r', 'e', 'd', 'a', 'n', 'd', 'I', 'm', 'c', 'a', 'r', 'r', 'y', 'i', 'n', 'g', 't', 'h', 'e', 'l', 'o', 'a', 'd']\n",
      "[' ', ' ', ' ', ' ', ' ', ' ', ' ', '\\n', ' ', ' ', ' ', ' ', ' ', ' ', ' ', ' ', ' ', '\\n', ' ', ' ', ' ', ' ', ' ', ' ']\n",
      "['Two', 'toads,', 'terribly', 'tired,', 'trotted', 'along', 'the', 'road.', 'Said', 'toad', 'number', '1', '12', 'to', 'the', 'toad', 'number', 'Two:', \"'I'm\", 'tired,', 'and', \"I'm\", 'carrying', 'the', 'load.']\n"
     ]
    }
   ],
   "source": [
    "import re\n",
    "\n",
    "twister = \"Two toads, terribly tired, trotted along the road.\\nSaid toad number 1 12 to the toad number Two:\\n'I'm tired, and I'm carrying the load.\"\n",
    "print(re.findall(r'.+', twister))\n",
    "print(re.findall(r'\\d+', twister))\n",
    "print(re.findall(r'[0-9]+', twister))\n",
    "print(re.findall(r'[0-9]', twister))\n",
    "print(re.findall(r'\\D+', twister))\n",
    "print(re.findall(r'\\w+', twister))\n",
    "print(re.findall(r'\\W+', twister))\n",
    "print(re.findall(r'\\w', twister))\n",
    "print(re.findall(r'\\s+', twister))\n",
    "print(re.findall(r'\\S+', twister))"
   ]
  },
  {
   "cell_type": "code",
   "execution_count": 16,
   "id": "b3b1bb25",
   "metadata": {
    "scrolled": true
   },
   "outputs": [
    {
     "name": "stdout",
     "output_type": "stream",
     "text": [
      "['toad', 'road', 'toad', 'toad', 'load']\n",
      "['road', 'toad', 'toad', 'load']\n",
      "['road', 'toad', 'toad', 'load']\n",
      "['road', 'load']\n",
      "['Two', 'toads', 'terribly', 'tired', 'trotted', 'along', 'the', 'road', 'Said', 'toad', 'number', 'to', 'the', 'toad', 'number', 'Two', 'I', 'm', 'tired', 'and', 'I', 'm', 'carrying', 'the', 'load']\n"
     ]
    }
   ],
   "source": [
    "twister = \"Two toads, terribly tired, trotted along the road.\\nSaid toad number 1 12 to the toad number Two:\\n'I'm tired, and I'm carrying the load.\"\n",
    "print(re.findall(r'[trl]oad', twister))\n",
    "print(re.findall(r'[trl]oad\\b', twister))\n",
    "print(re.findall(r'[^s]oad\\b', twister))\n",
    "print(re.findall(r'[rl]oad\\b', twister))\n",
    "print(re.findall(r'[A-Za-z]+', twister))"
   ]
  },
  {
   "cell_type": "code",
   "execution_count": null,
   "id": "00e03223",
   "metadata": {},
   "outputs": [],
   "source": [
    "s = 'Кошка и ёжик играют с мячом, but dog does not play with ball'\n",
    "print(re.findall(r'[A-Za-z]+', s))\n",
    "print(re.findall(r'[а-яА-ЯЁё]+', s))\n",
    "print(re.findall(r'[а-яА-ЯЁёA-Za-z]+', s))"
   ]
  },
  {
   "cell_type": "code",
   "execution_count": null,
   "id": "958fb6bc",
   "metadata": {},
   "outputs": [],
   "source": [
    "# извлечь дату: день месяц год\n",
    "text = \"12 ноября 2011 года произошло удивительное событие. А 13 ноября 2012 - еще удивительнее. Даже не будем \\nговорить, что произошло 2 декабря 2011 года и 25 декабря 2012 года.\"\n",
    "print(re.findall(r'\\d+', text))\n",
    "print(re.findall(r'\\d{1,2}\\s\\w+\\s\\d{4}', text))\n",
    "print(re.findall(r'\\d{1,2} \\w+ \\d{4}', text))"
   ]
  },
  {
   "cell_type": "code",
   "execution_count": null,
   "id": "5acf3dad",
   "metadata": {},
   "outputs": [],
   "source": [
    "# найти приглагательное с основой 'удивительн'\n",
    "text = \"12 ноября 2011 года произошло удивительное событие, удивительного. А 13 ноября 2012 - еще удивительнее. Даже не будем \\nговорить, что произошло 2 декабря 2011 года и 25 декабря 2012 года.\"\n",
    "print(re.findall(r'удивительн..', text))\n",
    "print(re.findall(r'удивительн.{2,3}', text))"
   ]
  },
  {
   "cell_type": "code",
   "execution_count": null,
   "id": "f614a522",
   "metadata": {},
   "outputs": [],
   "source": [
    "# найти все пары имен\n",
    "names = \"1NoahEmma2LiamOlivia3MasonSophia4JacobIsabella5WilliamAva6EthanMia7MichaelEmily\"\n",
    "print(re.findall(r'\\d[A-Z][a-z]+[A-Z][a-z]+', names))\n",
    "print(re.findall(r'\\d([A-Z][a-z]+)([A-Z][a-z]+)', names))"
   ]
  },
  {
   "cell_type": "markdown",
   "id": "d8c53714",
   "metadata": {},
   "source": [
    "## sub(pattern, repl, string)\n",
    "\n",
    "Метод ищет шаблон в строке и заменяет его на указанную подстроку.\n",
    "\n",
    "Если шаблон не найден, строка остается неизменной."
   ]
  },
  {
   "cell_type": "code",
   "execution_count": 17,
   "id": "7b4462e9",
   "metadata": {},
   "outputs": [
    {
     "name": "stdout",
     "output_type": "stream",
     "text": [
      "Cheddar, ricotta! and mozarella? cheese went into the bar, met nachos.\n"
     ]
    }
   ],
   "source": [
    "result = re.sub(r'Gorgonzola','Cheddar', text ) # что ищем, на что заменяем, где заменить (текст)\n",
    "\n",
    "print(result)"
   ]
  },
  {
   "cell_type": "code",
   "execution_count": null,
   "id": "68526d6d",
   "metadata": {},
   "outputs": [],
   "source": [
    "result = re.sub(r'Gorgonzola','Cheddar', text ) # что ищем, на что заменяем, где заменить (текст)\n",
    "\n",
    "print(result)"
   ]
  },
  {
   "cell_type": "markdown",
   "id": "4bc6ce51",
   "metadata": {},
   "source": [
    "## Examples"
   ]
  },
  {
   "cell_type": "code",
   "execution_count": null,
   "id": "7874d26b",
   "metadata": {},
   "outputs": [],
   "source": [
    "* (re.findall) Напишите регулярное выражение, которое вытаскивало бы все адреса из документа addresses.txt\n",
    "* (re.sub) Из текта в файле \"морж-корж.txt\" возьмите текст и замените все вхождения слова \"морж\" на слово \"корж\""
   ]
  },
  {
   "cell_type": "code",
   "execution_count": 3,
   "id": "8a2de4a5",
   "metadata": {},
   "outputs": [
    {
     "name": "stdout",
     "output_type": "stream",
     "text": [
      "Contact@nordstrom.com, Breen@HauteLook.com, nordstrom@nordstrom.com, Thomas@nordstrom.com, nordstrom@nordstrom.com, Nordstrom@nordstrom.com\n"
     ]
    }
   ],
   "source": [
    "with open(\"Data/addresses.txt\", \"r\", encoding=\"utf-8\") as file: \n",
    "  print(*re.findall(r\"\\w*[@]\\w*[\\.].*\", file.read()), sep=\", \")"
   ]
  },
  {
   "cell_type": "code",
   "execution_count": 2,
   "id": "241b9905",
   "metadata": {},
   "outputs": [
    {
     "name": "stdout",
     "output_type": "stream",
     "text": [
      "Корж[1] (кильд. mоršа, норв. morššâ, лат. Odobenus rosmarus) — морское млекопитающее, единственный современный вид семейства коржовых клады ластоногих отряда хищных.\n",
      "\n",
      "Взрослый корж легко узнаваем по своим видным бивням. Корж — один из крупнейших представителей ластоногих, по размерам тела среди ластоногих уступает лишь морским слонам[2]. Ареалы этих видов не пересекаются, то есть корж является крупнейшим из ластоногих в своей среде обитания.\n",
      "\n",
      "Зимнее плавание в России называется «коржеванием».\n",
      "\n",
      "В 2008 году, по инициативе Всемирного фонда дикой природы (WWF), утверждён День коржа, который отмечается ежегодно 24 ноября.\n",
      "\n",
      "Корж — крупный морской зверь с очень толстой кожей. Верхние клыки чрезвычайно развиты, удлинённы и направлены вниз. Очень широкая морда усажена многочисленными толстыми, жёсткими, сплющенными щетинами-усами (вибриссами), их у коржа на верхней губе может быть от 400 до 700, расположены они в 13—18 рядов[4]. Наружных ушей нет, глаза маленькие.\n",
      "\n",
      "Кожа покрыта короткими прилегающими жёлто-бурыми волосами, но с возрастом их становится меньше, и у старых коржей кожа почти совершенно голая. Конечности более приспособлены для движения на суше, чем у настоящих тюленей, и коржи могут ходить, а не ползать; подошвы мозолистые. Хвост зачаточный.\n",
      "\n",
      "Кожа коржей очень морщинистая и толстая, до 10 см на шее и плечах самцов. Слой жира — до 15 см. Молодые коржи имеют тёмно-коричневый цвет кожи, а по мере взросления светлеют и бледнеют. Старые самцы становятся почти розовыми. Так как кровеносные сосуды кожи сужаются в холодной воде, коржи могут стать почти белого цвета во время купания. В качестве вторичных половых признаков для самцов (в естественных условиях) характерны наросты на коже шеи, груди и плеч.\n",
      "\n",
      "Наиболее характерной особенностью коржа являются его длинные бивни. Это удлинённые клыки, которые присутствуют у обоих полов и могут достигать в длину 1 м и весить до 5,4 кг. Бивни немного длиннее и толще у самцов, которые используют их для схваток. Самцы с крупнейшими бивнями обычно доминируют в социальной группе. Бивни также используются для формирования и поддержания отверстий во льду и помогают коржам вылезать из воды на лёд. Возможно, бивни также используются, чтобы искать еду на дне.\n",
      "\n",
      "Выделяют два или три подвида коржа[5]:\n",
      "\n",
      "Тихоокеанский корж (Odobenus rosmarus divergens Illiger, 1811),\n",
      "Атлантический корж (Odobenus rosmarus rosmarus Linnaeus, 1758).\n",
      "Часто из тихоокеанского подвида выделяют третий подвид — лаптевского коржа (Odobenus rosmarus laptevi Chapskii, 1940), но его самостоятельность многими подвергается сомнению. В Красную книгу России лаптевская популяция включена на правах отдельного подвида.\n",
      "\n",
      "Согласно данным МСОП[6], по результатам недавних исследований митохондриальной ДНК и изучения морфометрических данных, следует отказаться от рассмотрения лаптевского коржа как самостоятельного подвида, признав его крайней западной популяцией тихоокеанского коржа.\n",
      "\n",
      "По последней оценке, основанной на результатах российско-американского учёта численности, проведённого в 1990 году и повторенного в 2006 году, современная численность популяции тихоокеанского коржа составляет от 129[7] до 200 тыс. особей[8][9].\n",
      "\n",
      "Большая часть тихоокеанских коржей проводит лето севернее Берингова пролива, в Чукотском море вдоль северного побережья восточной Сибири, возле острова Врангеля, в море Бофорта вдоль северного побережья Аляски, а также встречается в водах между указанными местами. Небольшое число самцов встречается в летний период в Анадырском заливе, на южном побережье Чукотского полуострова, а также в Бристольском заливе. Весной и осенью они концентрируются от западного побережья Аляски до Анадырского залива. Они зимуют в южных частях Берингова моря, вдоль восточного побережья Сибири на юг к северной части полуострова Камчатка, а также вдоль южного побережья Аляски[2]. Фоссилизованные останки коржа возрастом 28 тыс. лет были найдены недалеко от залива Сан-Франциско, что показывает распространение коржа вплоть до берегов северной Калифорнии во времена последнего ледникового периода[10].\n",
      "\n",
      "Атлантический корж был почти истреблён в результате бесконтрольного коммерческого промысла, и численность популяции его значительно ниже. Точно оценить численность в настоящее время нелегко, но, вероятно, она не превышает 20 тыс. особей[11][12]. Эта популяция распространена от Арктической Канады, Гренландии, Шпицбергена, а также в западном регионе Российской Арктики. На основании огромного географического распространения и данных по перемещениям, предполагается наличие восьми субпопуляций атлантического коржа — пять на западе и три на востоке от Гренландии[13]. Атлантический корж раньше занимал пределы, протянувшиеся на юг до мыса Код, и в большом числе встречался в заливе Святого Лаврентия. В апреле 2006 северо-западная популяция атлантического коржа была внесена в список Канадского акта по угрожаемым видам (англ. Canadian Species at Risk Act) (Квебек, Нью-Брансуик, Новая Шотландия, Ньюфаундленд и Лабрадор) как почти исчезнувшая в Канаде[14]. В ноябре 2018 года атлантические коржи были замечены в Белом море, где они не появлялись несколько столетий[15].\n",
      "\n",
      "Изолированная лаптевская популяция коржа расположена в течение всего года в центральном и западном регионах Моря Лаптевых, в самом восточном регионе Карского моря, а также в самой западной части Восточно-Сибирского моря. Современная численность оценивается в 5—10 тыс. особей[16].\n",
      "\n"
     ]
    }
   ],
   "source": [
    "with open(\"Data/морж-корж.txt\", \"r\", encoding = \"utf-8\") as f:\n",
    "    #print(f.read())\n",
    "    r = re.sub(r\"Морж\", \"Корж\", f.read())\n",
    "    e = re.sub(r\"морж\", \"корж\", r)\n",
    "    print(e)"
   ]
  },
  {
   "cell_type": "code",
   "execution_count": null,
   "id": "692bc959",
   "metadata": {},
   "outputs": [],
   "source": []
  }
 ],
 "metadata": {
  "kernelspec": {
   "display_name": "Python 3 (ipykernel)",
   "language": "python",
   "name": "python3"
  },
  "language_info": {
   "codemirror_mode": {
    "name": "ipython",
    "version": 3
   },
   "file_extension": ".py",
   "mimetype": "text/x-python",
   "name": "python",
   "nbconvert_exporter": "python",
   "pygments_lexer": "ipython3",
   "version": "3.10.8"
  }
 },
 "nbformat": 4,
 "nbformat_minor": 5
}
