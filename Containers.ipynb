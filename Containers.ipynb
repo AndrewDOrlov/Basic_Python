{
 "cells": [
  {
   "cell_type": "markdown",
   "id": "1f46210f",
   "metadata": {},
   "source": [
    "### List - список"
   ]
  },
  {
   "cell_type": "code",
   "execution_count": 2,
   "id": "f09c53a0",
   "metadata": {},
   "outputs": [],
   "source": [
    "my_list = [5, 800.6, True, 'hello', [1221, 13654]] # в списке могут быть элементы разных типов"
   ]
  },
  {
   "cell_type": "code",
   "execution_count": 3,
   "id": "e7684cb0",
   "metadata": {},
   "outputs": [
    {
     "name": "stdout",
     "output_type": "stream",
     "text": [
      "5\n",
      "<class 'list'>\n"
     ]
    }
   ],
   "source": [
    "print(len(my_list)) # длина списка, количество элементов"
   ]
  },
  {
   "cell_type": "markdown",
   "id": "9d8ec753",
   "metadata": {},
   "source": [
    "#### Create a list"
   ]
  },
  {
   "cell_type": "code",
   "execution_count": null,
   "id": "59f22e8a",
   "metadata": {
    "colab": {
     "base_uri": "https://localhost:8080/"
    },
    "id": "fT9UcrONNjPy",
    "outputId": "b0a9d91c-5af9-4ce9-c646-5737db9a656f"
   },
   "outputs": [
    {
     "name": "stdout",
     "output_type": "stream",
     "text": [
      "[]\n"
     ]
    }
   ],
   "source": [
    "l = [] # по литералу, специальному символу, обозначающему список\n"
   ]
  },
  {
   "cell_type": "code",
   "execution_count": 8,
   "id": "aacadbce",
   "metadata": {},
   "outputs": [
    {
     "ename": "TypeError",
     "evalue": "'int' object is not iterable",
     "output_type": "error",
     "traceback": [
      "\u001b[1;31m---------------------------------------------------------------------------\u001b[0m",
      "\u001b[1;31mTypeError\u001b[0m                                 Traceback (most recent call last)",
      "Cell \u001b[1;32mIn [8], line 3\u001b[0m\n\u001b[0;32m      1\u001b[0m \u001b[38;5;66;03m# превратить итерируемый объект в список с помощью функции list()\u001b[39;00m\n\u001b[0;32m      2\u001b[0m s \u001b[38;5;241m=\u001b[39m \u001b[38;5;241m2\u001b[39m\n\u001b[1;32m----> 3\u001b[0m \u001b[38;5;28mprint\u001b[39m(\u001b[38;5;28;43mlist\u001b[39;49m\u001b[43m(\u001b[49m\u001b[43ms\u001b[49m\u001b[43m)\u001b[49m)\n",
      "\u001b[1;31mTypeError\u001b[0m: 'int' object is not iterable"
     ]
    }
   ],
   "source": [
    "# превратить итерируемый объект в список с помощью функции list()\n",
    "s = 'hello'\n",
    "print(list(s))"
   ]
  },
  {
   "cell_type": "markdown",
   "id": "3d19f736",
   "metadata": {},
   "source": [
    "#### Join"
   ]
  },
  {
   "cell_type": "code",
   "execution_count": 17,
   "id": "e219baa0",
   "metadata": {
    "colab": {
     "base_uri": "https://localhost:8080/"
    },
    "id": "xk9noockSfF3",
    "outputId": "7c06085e-7f45-4138-8ee8-9861bb36f192"
   },
   "outputs": [
    {
     "name": "stdout",
     "output_type": "stream",
     "text": [
      "['h', 'e', 'l', 'l', 'o']\n",
      "hello\n",
      "h, e, l, l, o\n"
     ]
    }
   ],
   "source": [
    "s = 'hello'\n",
    "l = list(s)\n",
    "print(s_list)\n",
    "print(\"\".join(s_list)) # метод join - позволяет создать строку из списка\n",
    "print(\", \".join(s_list))"
   ]
  },
  {
   "cell_type": "markdown",
   "id": "c2975782",
   "metadata": {},
   "source": [
    "#### Cycle through"
   ]
  },
  {
   "cell_type": "code",
   "execution_count": 30,
   "id": "9c9982d0",
   "metadata": {
    "scrolled": true
   },
   "outputs": [
    {
     "name": "stdout",
     "output_type": "stream",
     "text": [
      "h\n",
      "e\n",
      "l\n",
      "l\n",
      "o\n",
      "string\n",
      "another string\n"
     ]
    }
   ],
   "source": [
    "for i in m: # перебрать элементы\n",
    "    print(i) # вывести в столбец\n",
    "    \n",
    "    print(i, end=\"\\t\") # вывести в строку с разбитием"
   ]
  },
  {
   "cell_type": "markdown",
   "id": "def7bb57",
   "metadata": {},
   "source": [
    "#### Cycle with addition"
   ]
  },
  {
   "cell_type": "code",
   "execution_count": 43,
   "id": "5eec36e5",
   "metadata": {},
   "outputs": [
    {
     "name": "stdout",
     "output_type": "stream",
     "text": [
      "10\n",
      "[10]\n",
      "11\n",
      "[10, 11]\n",
      "12\n",
      "[10, 11, 12]\n",
      "13\n",
      "[10, 11, 12, 13]\n",
      "14\n",
      "[10, 11, 12, 13, 14]\n",
      "15\n",
      "[10, 11, 12, 13, 14, 15]\n",
      "16\n",
      "[10, 11, 12, 13, 14, 15, 16]\n",
      "17\n",
      "[10, 11, 12, 13, 14, 15, 16, 17]\n",
      "18\n",
      "[10, 11, 12, 13, 14, 15, 16, 17, 18]\n",
      "19\n",
      "[10, 11, 12, 13, 14, 15, 16, 17, 18, 19]\n",
      "20\n",
      "[10, 11, 12, 13, 14, 15, 16, 17, 18, 19, 20]\n",
      "[10, 11, 12, 13, 14, 15, 16, 17, 18, 19, 20]\n"
     ]
    }
   ],
   "source": [
    "l = []\n",
    "for i in range(0, 10 + 1): # запомнить: верхняя граница не включается\n",
    "  i = i + 10\n",
    "  l.append(i) # добавляем в конец, метод изменяет список\n",
    "  print(i)\n",
    "  print(l)\n",
    "print(l)"
   ]
  },
  {
   "cell_type": "markdown",
   "id": "16a7b7b1",
   "metadata": {},
   "source": [
    "#### Add to list"
   ]
  },
  {
   "cell_type": "code",
   "execution_count": 18,
   "id": "4f03386d",
   "metadata": {
    "colab": {
     "base_uri": "https://localhost:8080/"
    },
    "id": "k5xXAc45Mi5Q",
    "outputId": "e8db7581-6fa1-4a3d-a7dd-1153c6d20a49",
    "scrolled": false
   },
   "outputs": [
    {
     "name": "stdout",
     "output_type": "stream",
     "text": [
      "['h', 'e', 'l', 'l', 'o', 'string']\n"
     ]
    }
   ],
   "source": [
    "l.append('string') #добавить 1 элемент в конец списка\n",
    "print(l)"
   ]
  },
  {
   "cell_type": "code",
   "execution_count": 16,
   "id": "8cb3ff56",
   "metadata": {
    "colab": {
     "base_uri": "https://localhost:8080/"
    },
    "id": "ZoomuIt8TjwN",
    "outputId": "bb43f1a6-bb1c-460b-9c26-cbd9bf22b05b"
   },
   "outputs": [
    {
     "name": "stdout",
     "output_type": "stream",
     "text": [
      "h, e, l, l, o, string, another string\n"
     ]
    }
   ],
   "source": [
    "m = l + ['another string'] # сложение списков\n",
    "print(*m, sep = \", \") # * - оператор распаковки"
   ]
  },
  {
   "cell_type": "code",
   "execution_count": 42,
   "id": "2c17065a",
   "metadata": {},
   "outputs": [
    {
     "name": "stdout",
     "output_type": "stream",
     "text": [
      "[10, 'wow', 12, 13, 14, 15, 16, 17, 18, 19, 20]\n"
     ]
    }
   ],
   "source": [
    "l[1] = 'wow'\n",
    "print(l)"
   ]
  },
  {
   "cell_type": "code",
   "execution_count": 44,
   "id": "b1793b2e",
   "metadata": {},
   "outputs": [
    {
     "name": "stdout",
     "output_type": "stream",
     "text": [
      "[10, 11, 12, 13, 14, 15, 16, 17, 18, 19, 20, 'a', 'b']\n"
     ]
    }
   ],
   "source": [
    "l.extend([\"a\",\"b\"]) #расширить список, добавив в конец все элементы, написанные в скобках метода extend\n",
    "print(l)\n",
    "# аналогично l + [\"a\",\"b\"]"
   ]
  },
  {
   "cell_type": "code",
   "execution_count": 54,
   "id": "e94383e7",
   "metadata": {
    "scrolled": true
   },
   "outputs": [
    {
     "name": "stdout",
     "output_type": "stream",
     "text": [
      "[10, 11, 'c', 'c', 12, 13, 14, 15, 16, 17, 18, 19, 20, 'a', 'b']\n"
     ]
    }
   ],
   "source": [
    "l.insert(2,\"c\") # списки можно перебирать и пополнять по индексам\n",
    "print(l)"
   ]
  },
  {
   "cell_type": "code",
   "execution_count": 56,
   "id": "692970f0",
   "metadata": {},
   "outputs": [
    {
     "name": "stdout",
     "output_type": "stream",
     "text": [
      "[10, 11, 12, 13, 14, 15, 16, 17, 18, 19, 20, 'a', 'b']\n"
     ]
    }
   ],
   "source": [
    "l.remove(\"c\") # списки можно сокращать по индексам\n",
    "print(l)"
   ]
  },
  {
   "cell_type": "code",
   "execution_count": 58,
   "id": "879dc752",
   "metadata": {},
   "outputs": [
    {
     "name": "stdout",
     "output_type": "stream",
     "text": [
      "[10, 11, 13, 14, 15, 16, 17, 18, 19, 20, 'a', 'b']\n"
     ]
    }
   ],
   "source": [
    "del l[2] # удаляем второй (считая с нуля) элемент из списка\n",
    "print(l)"
   ]
  },
  {
   "cell_type": "code",
   "execution_count": 59,
   "id": "b70e6792",
   "metadata": {},
   "outputs": [
    {
     "name": "stdout",
     "output_type": "stream",
     "text": [
      "10\n",
      "1\n"
     ]
    }
   ],
   "source": [
    "# доступ к индексу элемента по значению\n",
    "# аналогично методу .find для строк\n",
    "\n",
    "print(l.index('a')) # на каком месте (считая от нуля) элемент\n",
    "print(l.count(\"b\")) # сколько раз встречается нужный элемент в списке"
   ]
  },
  {
   "cell_type": "code",
   "execution_count": 61,
   "id": "d22efa4b",
   "metadata": {
    "colab": {
     "base_uri": "https://localhost:8080/"
    },
    "id": "T2OOZ9gqRlfN",
    "outputId": "aa42908a-e439-49fd-ea83-050d0ae9da27"
   },
   "outputs": [
    {
     "name": "stdout",
     "output_type": "stream",
     "text": [
      "[] \n",
      "длина списка =  0\n"
     ]
    }
   ],
   "source": [
    "l.clear() # очистим список от всех элементов\n",
    "print(l, \"\\nдлина списка = \", len(l)) # напечатаем список и его длину"
   ]
  },
  {
   "cell_type": "markdown",
   "id": "f1c93a70",
   "metadata": {},
   "source": [
    "#### Slice"
   ]
  },
  {
   "cell_type": "code",
   "execution_count": 37,
   "id": "e2763441",
   "metadata": {},
   "outputs": [
    {
     "name": "stdout",
     "output_type": "stream",
     "text": [
      "el\n"
     ]
    }
   ],
   "source": [
    "s = 'hello'\n",
    "print(s[1:3]) # сделать срез, верхняя граница не вкл"
   ]
  },
  {
   "cell_type": "code",
   "execution_count": 76,
   "id": "590f8462",
   "metadata": {},
   "outputs": [
    {
     "name": "stdout",
     "output_type": "stream",
     "text": [
      "loel\n"
     ]
    }
   ],
   "source": [
    "s = 'hellohellohello'\n",
    "print(s[1:10:2]) # сделать срез с пропуском до 10"
   ]
  },
  {
   "cell_type": "code",
   "execution_count": 81,
   "id": "f69091b8",
   "metadata": {},
   "outputs": [
    {
     "name": "stdout",
     "output_type": "stream",
     "text": [
      "hleol\n"
     ]
    }
   ],
   "source": [
    "s = 'hellohellohello'\n",
    "print(s[10:1:-2]) # сделать срез с обратным перебором"
   ]
  },
  {
   "cell_type": "markdown",
   "id": "079a8ab0",
   "metadata": {
    "id": "VJvATKG-R9lb"
   },
   "source": [
    "## tuple, неизменяемый список.\n",
    "\n",
    "1 Защита данных. Кортеж защищен от изменений, как намеренных (что плохо), так и случайных (что хорошо).\n",
    "\n",
    "2 Меньший размер. Вам нужно меньше памяти, чтобы хранить данные"
   ]
  },
  {
   "cell_type": "code",
   "execution_count": 62,
   "id": "a63e1b8a",
   "metadata": {
    "colab": {
     "base_uri": "https://localhost:8080/"
    },
    "id": "oPaKUTdQSBrs",
    "outputId": "de290a70-a33b-4693-b275-cba54c660575"
   },
   "outputs": [
    {
     "name": "stdout",
     "output_type": "stream",
     "text": [
      "Size of the tuple:  72 \n",
      "size of the list:  88\n"
     ]
    }
   ],
   "source": [
    "# сравним размеры в байтах\n",
    "\n",
    "a = (1, 2, 3, 4, 5, 6) # кортеж\n",
    "b = [1, 2, 3, 4, 5, 6] # лист/список\n",
    "\n",
    "print(\"Size of the tuple: \",a.__sizeof__(),\"\\nsize of the list: \",b.__sizeof__()) "
   ]
  },
  {
   "cell_type": "markdown",
   "id": "15eba8b1",
   "metadata": {},
   "source": [
    "#### Create tuple"
   ]
  },
  {
   "cell_type": "code",
   "execution_count": null,
   "id": "cc5c7278",
   "metadata": {
    "colab": {
     "base_uri": "https://localhost:8080/"
    },
    "id": "kuxmOUEuSGDT",
    "outputId": "17bd3ecc-adcf-42ae-e49b-74563875b336"
   },
   "outputs": [
    {
     "name": "stdout",
     "output_type": "stream",
     "text": [
      "() \n",
      " <class 'tuple'>\n"
     ]
    }
   ],
   "source": [
    "# как создать кортеж\n",
    "a = tuple() \n",
    "\n",
    "print(a, \"\\n\",type(a))"
   ]
  },
  {
   "cell_type": "code",
   "execution_count": 82,
   "id": "e59dc4aa",
   "metadata": {
    "colab": {
     "base_uri": "https://localhost:8080/"
    },
    "id": "ts6YO3fJSYuM",
    "outputId": "53a551f5-ee3c-4a4f-b382-484de096bce9"
   },
   "outputs": [
    {
     "name": "stdout",
     "output_type": "stream",
     "text": [
      "() \n",
      " <class 'tuple'>\n"
     ]
    }
   ],
   "source": [
    "# с помощью литерала кортежа ()\n",
    "b = ()\n",
    "print(b, \"\\n\",type(b))"
   ]
  },
  {
   "cell_type": "code",
   "execution_count": 97,
   "id": "7a828194",
   "metadata": {
    "colab": {
     "base_uri": "https://localhost:8080/"
    },
    "id": "U77LlkToSdMl",
    "outputId": "0829c8af-d32f-4afe-8493-e083072883ea"
   },
   "outputs": [
    {
     "name": "stdout",
     "output_type": "stream",
     "text": [
      "('1',)\n",
      "<class 'tuple'>\n",
      "('2',)\n",
      "<class 'tuple'>\n",
      "('abc', 'bcd')\n"
     ]
    },
    {
     "ename": "NameError",
     "evalue": "name 'с' is not defined",
     "output_type": "error",
     "traceback": [
      "\u001b[1;31m---------------------------------------------------------------------------\u001b[0m",
      "\u001b[1;31mNameError\u001b[0m                                 Traceback (most recent call last)",
      "Cell \u001b[1;32mIn [97], line 12\u001b[0m\n\u001b[0;32m     10\u001b[0m c \u001b[38;5;241m=\u001b[39m (\u001b[38;5;124m'\u001b[39m\u001b[38;5;124mabc\u001b[39m\u001b[38;5;124m'\u001b[39m,\u001b[38;5;124m'\u001b[39m\u001b[38;5;124mbcd\u001b[39m\u001b[38;5;124m'\u001b[39m)\n\u001b[0;32m     11\u001b[0m \u001b[38;5;28mprint\u001b[39m(c)\n\u001b[1;32m---> 12\u001b[0m \u001b[38;5;28mprint\u001b[39m(\u001b[38;5;28mtype\u001b[39m(\u001b[43mс\u001b[49m))\n",
      "\u001b[1;31mNameError\u001b[0m: name 'с' is not defined"
     ]
    }
   ],
   "source": [
    "# Создаем кортеж из одного элемента: внимание, запятая\n",
    "a = ('1',)\n",
    "print(a)\n",
    "print(type(a))\n",
    "b = '2', \n",
    "print(b)\n",
    "print(type(b))\n",
    "\n",
    "# из двух, строки\n",
    "c = ('abc','bcd')\n",
    "print(c)\n",
    "print(type(с))"
   ]
  },
  {
   "cell_type": "markdown",
   "id": "de5bb145",
   "metadata": {},
   "source": [
    "#### Tuple operations"
   ]
  },
  {
   "cell_type": "markdown",
   "id": "f0e0f05b",
   "metadata": {
    "id": "nySFCY7vSu4t"
   },
   "source": [
    "кортежам доступны все операции над списками, не изменяющие список: сложение, умножение на число, методы index() и count(), можно работать с индексами и так далее.\n",
    "\n"
   ]
  },
  {
   "cell_type": "code",
   "execution_count": 86,
   "id": "3cbc3a9c",
   "metadata": {
    "colab": {
     "base_uri": "https://localhost:8080/",
     "height": 243
    },
    "id": "TaOAmAIqSweE",
    "outputId": "68a734bd-7674-408c-f407-bbd06ce328d5"
   },
   "outputs": [
    {
     "ename": "TypeError",
     "evalue": "'tuple' object does not support item assignment",
     "output_type": "error",
     "traceback": [
      "\u001b[1;31m---------------------------------------------------------------------------\u001b[0m",
      "\u001b[1;31mTypeError\u001b[0m                                 Traceback (most recent call last)",
      "Cell \u001b[1;32mIn [86], line 3\u001b[0m\n\u001b[0;32m      1\u001b[0m \u001b[38;5;66;03m# кортежи не изменяются:\u001b[39;00m\n\u001b[0;32m      2\u001b[0m b \u001b[38;5;241m=\u001b[39m \u001b[38;5;124m'\u001b[39m\u001b[38;5;124ma\u001b[39m\u001b[38;5;124m'\u001b[39m, \n\u001b[1;32m----> 3\u001b[0m \u001b[43mb\u001b[49m\u001b[43m[\u001b[49m\u001b[38;5;241;43m0\u001b[39;49m\u001b[43m]\u001b[49m \u001b[38;5;241m=\u001b[39m \u001b[38;5;124m'\u001b[39m\u001b[38;5;124m1\u001b[39m\u001b[38;5;124m'\u001b[39m\n\u001b[0;32m      4\u001b[0m \u001b[38;5;28mprint\u001b[39m(b)\n",
      "\u001b[1;31mTypeError\u001b[0m: 'tuple' object does not support item assignment"
     ]
    }
   ],
   "source": [
    "# кортежи не изменяются:\n",
    "b = 'a', \n",
    "b[0] = '1'\n",
    "print(b)\n",
    "# ошибка - кортеж нельзя изменить"
   ]
  },
  {
   "cell_type": "markdown",
   "id": "9281fe90",
   "metadata": {},
   "source": [
    "### Set - множество"
   ]
  },
  {
   "cell_type": "markdown",
   "id": "710dcde8",
   "metadata": {
    "id": "wq7auSEsTC8g"
   },
   "source": [
    "#Множество (set)\n",
    "это тоже \"контейнер\" для данных, но в отличие от листа(списка), он содержит уникальные, не повторяющиеся элементы.\n",
    "\n",
    "Неупорядоченные типы данных"
   ]
  },
  {
   "cell_type": "markdown",
   "id": "9ea20749",
   "metadata": {},
   "source": [
    "#### Create set"
   ]
  },
  {
   "cell_type": "code",
   "execution_count": null,
   "id": "7d2c3ce8",
   "metadata": {},
   "outputs": [],
   "source": [
    "a = {\"a\",\"b\",\"c\",\"d\",\"e\"} # задать множество напрямую"
   ]
  },
  {
   "cell_type": "code",
   "execution_count": 101,
   "id": "371a1858",
   "metadata": {
    "colab": {
     "base_uri": "https://localhost:8080/"
    },
    "id": "AzwvrVoISubp",
    "outputId": "b21f9980-a6f0-43aa-a66d-11039cdb64c7"
   },
   "outputs": [
    {
     "name": "stdout",
     "output_type": "stream",
     "text": [
      "{'abc', 34, 78}\n",
      "{'r', 'h', ' ', 'l', 'o', 'e', 't'}\n"
     ]
    }
   ],
   "source": [
    "# создать множество с помощью функции set()\n",
    "print(set([34,78,\"abc\"])) # они перемешались, индексы не работают \n",
    "print(set(\"hello there\"))\n"
   ]
  },
  {
   "cell_type": "code",
   "execution_count": 116,
   "id": "17bb2304",
   "metadata": {},
   "outputs": [
    {
     "name": "stdout",
     "output_type": "stream",
     "text": [
      "{'a'}\n",
      "<class 'set'>\n"
     ]
    }
   ],
   "source": [
    "a = set(\"a\",) # то же с одним элементом\n",
    "print(a)\n",
    "print(type(a))\n"
   ]
  },
  {
   "cell_type": "code",
   "execution_count": 99,
   "id": "ee91a33c",
   "metadata": {},
   "outputs": [
    {
     "name": "stdout",
     "output_type": "stream",
     "text": [
      "{'hello', 'there'}\n",
      "2\n"
     ]
    }
   ],
   "source": [
    "tmp = \"hello hello there\"\n",
    "\n",
    "print(set(tmp.split())) # split - из строки делает список\n",
    "\n",
    "print(len(set(tmp.split())))"
   ]
  },
  {
   "cell_type": "markdown",
   "id": "58bbf62e",
   "metadata": {},
   "source": [
    "#### Set use"
   ]
  },
  {
   "cell_type": "code",
   "execution_count": 131,
   "id": "60f8a3e3",
   "metadata": {
    "colab": {
     "base_uri": "https://localhost:8080/"
    },
    "id": "x6rqNQcwXbuM",
    "outputId": "90650228-1537-4f1a-b047-09a1c9649ec9",
    "scrolled": false
   },
   "outputs": [
    {
     "name": "stdout",
     "output_type": "stream",
     "text": [
      "{'b', 'a'}\n"
     ]
    }
   ],
   "source": [
    "# множества удобно использовать для удаления повторяющихся элементов:\n",
    "\n",
    "a = [\"a\", \"b\"] # задали список, сохранили в переменную\n",
    "a.append(\"b\") # добавим еще  b\n",
    "\n",
    "#  изменим тип объекта на set с помощью функции set()\n",
    "\n",
    "a = set(a) #применили функцию, пересохранили переменную\n",
    "\n",
    "print(a)"
   ]
  },
  {
   "cell_type": "markdown",
   "id": "8a7a322c",
   "metadata": {},
   "source": [
    "#### Set functions"
   ]
  },
  {
   "cell_type": "code",
   "execution_count": 142,
   "id": "f71b9822",
   "metadata": {
    "colab": {
     "base_uri": "https://localhost:8080/"
    },
    "id": "HaWNVNz5Xuk6",
    "outputId": "4460075b-94b8-49ac-b2a2-dc93a9cdae93"
   },
   "outputs": [
    {
     "name": "stdout",
     "output_type": "stream",
     "text": [
      "5\n",
      "{'c', 'd', 'e', 'b', 'a'}\n"
     ]
    }
   ],
   "source": [
    "a = {\"a\",\"b\",\"c\",\"d\",\"e\"}\n",
    "\n",
    "#число элементов в множестве (размер множества).\n",
    "print(len(a))\n",
    "print(a)"
   ]
  },
  {
   "cell_type": "code",
   "execution_count": 143,
   "id": "612e3e37",
   "metadata": {
    "colab": {
     "base_uri": "https://localhost:8080/"
    },
    "id": "xYurLCNBXyj8",
    "outputId": "e116ef46-30f1-499e-ec90-0392d9ea54ad"
   },
   "outputs": [
    {
     "name": "stdout",
     "output_type": "stream",
     "text": [
      "True\n",
      "False\n"
     ]
    }
   ],
   "source": [
    "# принадлежит ли элемент множеству (со списками, кортежами тоже работает)\n",
    "\n",
    "print(\"a\" in a)\n",
    "print(\"r\" in a)"
   ]
  },
  {
   "cell_type": "code",
   "execution_count": 144,
   "id": "853726ab",
   "metadata": {
    "colab": {
     "base_uri": "https://localhost:8080/"
    },
    "id": "Gk6t7MDzYIzX",
    "outputId": "a6122873-d8f8-491c-838a-93d59f997f8b"
   },
   "outputs": [
    {
     "name": "stdout",
     "output_type": "stream",
     "text": [
      "{'c', 'r', 'd', 'e', 'b', 'a'}\n"
     ]
    }
   ],
   "source": [
    "#добавляем элемент в множество\n",
    "\n",
    "a.add('r') # без порядкового номера, индексы не работают\n",
    "print(a)"
   ]
  },
  {
   "cell_type": "code",
   "execution_count": 146,
   "id": "ea710b60",
   "metadata": {
    "colab": {
     "base_uri": "https://localhost:8080/"
    },
    "id": "KkQhMuJEYMNS",
    "outputId": "7629dab5-30f1-44fb-8e7a-189b742aac17"
   },
   "outputs": [
    {
     "name": "stdout",
     "output_type": "stream",
     "text": [
      "{'r', 'x', 'd', 'w', 'b', 'a', 'y', 'e', 'c'}\n",
      "9\n"
     ]
    }
   ],
   "source": [
    "# добавляем множество во множество\n",
    "b = {\"w\", \"x\", \"y\"}\n",
    "a.update(b)\n",
    "print(a, len(a), sep=\"\\n\")"
   ]
  },
  {
   "cell_type": "code",
   "execution_count": 148,
   "id": "ed1ccad7",
   "metadata": {
    "colab": {
     "base_uri": "https://localhost:8080/"
    },
    "id": "--4p9n4rYRuB",
    "outputId": "85f61e5c-6514-42f5-82c4-4ebf49f2368d"
   },
   "outputs": [
    {
     "ename": "KeyError",
     "evalue": "'r'",
     "output_type": "error",
     "traceback": [
      "\u001b[1;31m---------------------------------------------------------------------------\u001b[0m",
      "\u001b[1;31mKeyError\u001b[0m                                  Traceback (most recent call last)",
      "Cell \u001b[1;32mIn [148], line 2\u001b[0m\n\u001b[0;32m      1\u001b[0m \u001b[38;5;66;03m# удаляем элемент из множества. \u001b[39;00m\n\u001b[1;32m----> 2\u001b[0m \u001b[43ma\u001b[49m\u001b[38;5;241;43m.\u001b[39;49m\u001b[43mremove\u001b[49m\u001b[43m(\u001b[49m\u001b[38;5;124;43m\"\u001b[39;49m\u001b[38;5;124;43mr\u001b[39;49m\u001b[38;5;124;43m\"\u001b[39;49m\u001b[43m)\u001b[49m\n\u001b[0;32m      3\u001b[0m \u001b[38;5;28mprint\u001b[39m(a)\n",
      "\u001b[1;31mKeyError\u001b[0m: 'r'"
     ]
    }
   ],
   "source": [
    "# удаляем элемент из множества. \n",
    "a.remove(\"r\")\n",
    "print(a)\n",
    "# KeyError, если такого элемента не существует."
   ]
  },
  {
   "cell_type": "code",
   "execution_count": 152,
   "id": "7434c8a5",
   "metadata": {
    "colab": {
     "base_uri": "https://localhost:8080/"
    },
    "id": "wgNCA6lBYnq1",
    "outputId": "b0ebc642-1389-4572-be9c-781d68a3f4d3"
   },
   "outputs": [
    {
     "name": "stdout",
     "output_type": "stream",
     "text": [
      "{'d', 'w', 'b', 'a', 'y', 'e', 'c'}\n"
     ]
    }
   ],
   "source": [
    "# Альтернативный вариант\n",
    "\n",
    "a.discard(\"x\") \n",
    "# удаляет элемент, если он находится в множестве.\n",
    "# Если элемента нет, не возвращает сообщение об ошибке\n",
    "print(a)"
   ]
  },
  {
   "cell_type": "code",
   "execution_count": 155,
   "id": "fa788e01",
   "metadata": {
    "colab": {
     "base_uri": "https://localhost:8080/"
    },
    "id": "XVhoJSArYr3i",
    "outputId": "220236b9-6b36-49f0-9cb7-1961a225cac1"
   },
   "outputs": [
    {
     "name": "stdout",
     "output_type": "stream",
     "text": [
      "b\n",
      "{'a', 'y', 'e', 'c'}\n"
     ]
    }
   ],
   "source": [
    "# удаляет первый элемент\n",
    "\n",
    "print(a.pop())\n",
    "print(a)\n",
    "# запустите несколько раз, посмотрите на результат"
   ]
  },
  {
   "cell_type": "code",
   "execution_count": 160,
   "id": "1b9d9a75",
   "metadata": {
    "colab": {
     "base_uri": "https://localhost:8080/"
    },
    "id": "Jkq2K3KuYvFs",
    "outputId": "81e2a720-8414-4f80-853d-0af399326716"
   },
   "outputs": [
    {
     "name": "stdout",
     "output_type": "stream",
     "text": [
      "0 \n",
      " set()\n"
     ]
    }
   ],
   "source": [
    "# очищаем множество\n",
    "\n",
    "a.clear()\n",
    "print(len(a), \"\\n\", a)"
   ]
  },
  {
   "cell_type": "markdown",
   "id": "7cc64690",
   "metadata": {},
   "source": [
    "#### Set operations"
   ]
  },
  {
   "cell_type": "code",
   "execution_count": 15,
   "id": "74f0efbc",
   "metadata": {
    "colab": {
     "base_uri": "https://localhost:8080/"
    },
    "id": "xDg6p5dCmXm0",
    "outputId": "84721aa4-c258-47a6-fb10-8943fc24a6d1"
   },
   "outputs": [
    {
     "name": "stdout",
     "output_type": "stream",
     "text": [
      "True\n",
      "False\n"
     ]
    }
   ],
   "source": [
    "a = {'a', 'b', 'c', 'd', 'e', 'f'}\n",
    "b = {'a', 'b', 'c', 'd', 'e', 'f', 'f'}\n",
    "\n",
    "c = {\"a\", \"b\"}\n",
    "d = {\"x\",\"y\"}\n",
    "# сравнение множеств\n",
    "print(a == b)\n",
    " # True если все элементы одного принадлежат второму\n",
    "print(a == c)"
   ]
  },
  {
   "cell_type": "code",
   "execution_count": 12,
   "id": "01fc3ba5",
   "metadata": {
    "colab": {
     "base_uri": "https://localhost:8080/"
    },
    "id": "0uQkOEdsmuye",
    "outputId": "91162f8f-3ca4-45e4-8dbd-46c2aefb1f1a"
   },
   "outputs": [
    {
     "name": "stdout",
     "output_type": "stream",
     "text": [
      "True\n",
      "True\n",
      "False\n",
      "True\n",
      "True\n"
     ]
    }
   ],
   "source": [
    "# является ли подмножеством\n",
    "\n",
    "print(c.issubset(a))\n",
    "print(d.issubset(a))\n",
    "\n",
    "print(a <= b) \n",
    "\n",
    "# аналогично, но в обратную сторону\n",
    "# является ли надмножеством\n",
    "print(a.issuperset(b)) \n",
    "print(a >= b)"
   ]
  },
  {
   "cell_type": "code",
   "execution_count": 51,
   "id": "9e086c9c",
   "metadata": {},
   "outputs": [
    {
     "name": "stdout",
     "output_type": "stream",
     "text": [
      "{3}\n",
      "{3}\n",
      "{1, 2, 3, 4, 5, 6, 7}\n",
      "{1, 2, 3, 4, 5, 6, 7}\n",
      "{1, 2}\n",
      "{1, 2, 4, 5, 6, 7}\n",
      "False\n"
     ]
    }
   ],
   "source": [
    "n1 = {1,2,3}\n",
    "n2 = {3,4,5,6,7}\n",
    "\n",
    "print(n1&n2) # AND И СУММА пересечение \n",
    "print(n1.intersection(n2)) # зафиксированное\n",
    "\n",
    "print(n1|n2) # OR ИЛИ УМНОЖЕНИЕ элементы обоих множества\n",
    "print(n1.union(n2)) # зафиксированное\n",
    "\n",
    "print(n1-n2) # ВЫЧИТАНИЕ\n",
    "\n",
    "print(n1^n2) # СИММЕТРИЧЕСКАЯ РАЗНИЦА, только различные элементы без пересечения"
   ]
  },
  {
   "cell_type": "markdown",
   "id": "1002b16d",
   "metadata": {
    "id": "W-U3GXfGnJTw"
   },
   "source": [
    "### frozenset\n",
    "set изменяемый, frozenset - нет"
   ]
  },
  {
   "cell_type": "code",
   "execution_count": 52,
   "id": "bc8f8bd9",
   "metadata": {
    "colab": {
     "base_uri": "https://localhost:8080/"
    },
    "id": "coh4_wibnNdI",
    "outputId": "e9c19471-a227-4b9f-f0aa-e6c48f47f764",
    "scrolled": true
   },
   "outputs": [
    {
     "name": "stdout",
     "output_type": "stream",
     "text": [
      "{'o', 'n', 'a', 'd', 'r', 'm'}\n",
      "True\n"
     ]
    }
   ],
   "source": [
    "a = set(\"random\") #'r', 'a', 'n'....\n",
    "print(a)\n",
    "b = frozenset('random')\n",
    "\n",
    "print(a == b) # давайте сравним множества"
   ]
  },
  {
   "cell_type": "code",
   "execution_count": 53,
   "id": "b8866c7e",
   "metadata": {
    "colab": {
     "base_uri": "https://localhost:8080/"
    },
    "id": "F85UiJcBniS8",
    "outputId": "f0858633-da2e-4d6e-9918-8ca67f85dc15",
    "scrolled": true
   },
   "outputs": [
    {
     "ename": "AttributeError",
     "evalue": "'frozenset' object has no attribute 'remove'",
     "output_type": "error",
     "traceback": [
      "\u001b[1;31m---------------------------------------------------------------------------\u001b[0m",
      "\u001b[1;31mAttributeError\u001b[0m                            Traceback (most recent call last)",
      "Cell \u001b[1;32mIn [53], line 1\u001b[0m\n\u001b[1;32m----> 1\u001b[0m \u001b[43mb\u001b[49m\u001b[38;5;241;43m.\u001b[39;49m\u001b[43mremove\u001b[49m(\u001b[38;5;124m\"\u001b[39m\u001b[38;5;124mm\u001b[39m\u001b[38;5;124m\"\u001b[39m)\n",
      "\u001b[1;31mAttributeError\u001b[0m: 'frozenset' object has no attribute 'remove'"
     ]
    }
   ],
   "source": [
    "b.remove(\"m\") # не можем изменить frozenset\n"
   ]
  },
  {
   "cell_type": "code",
   "execution_count": 54,
   "id": "dbabea64",
   "metadata": {
    "colab": {
     "base_uri": "https://localhost:8080/",
     "height": 189
    },
    "id": "lUA2kGA9no4D",
    "outputId": "95a29a54-12fa-40fc-9448-a43775cddbaa"
   },
   "outputs": [
    {
     "ename": "AttributeError",
     "evalue": "'frozenset' object has no attribute 'add'",
     "output_type": "error",
     "traceback": [
      "\u001b[1;31m---------------------------------------------------------------------------\u001b[0m",
      "\u001b[1;31mAttributeError\u001b[0m                            Traceback (most recent call last)",
      "Cell \u001b[1;32mIn [54], line 1\u001b[0m\n\u001b[1;32m----> 1\u001b[0m \u001b[43mb\u001b[49m\u001b[38;5;241;43m.\u001b[39;49m\u001b[43madd\u001b[49m(a)\n",
      "\u001b[1;31mAttributeError\u001b[0m: 'frozenset' object has no attribute 'add'"
     ]
    }
   ],
   "source": [
    "b.add(a) # мы не можем добавлять в frozenset"
   ]
  },
  {
   "cell_type": "markdown",
   "id": "9b5bb34b",
   "metadata": {},
   "source": [
    "### Dict - словарь\n",
    "коллекции произвольных объектов, записанные в виде пары ключ : значение (ключи уникальные, значения могут повторяться)\n",
    "\n",
    "(словари = ассоциативные массивы = хеш-таблицы)"
   ]
  },
  {
   "cell_type": "markdown",
   "id": "ad7d3e04",
   "metadata": {},
   "source": [
    "#### Create dict"
   ]
  },
  {
   "cell_type": "code",
   "execution_count": 55,
   "id": "4709c89e",
   "metadata": {},
   "outputs": [
    {
     "name": "stdout",
     "output_type": "stream",
     "text": [
      "{} <class 'dict'>\n"
     ]
    }
   ],
   "source": [
    "#  помощью литерала {}\n",
    "d = {}\n",
    "print(d, type(d))"
   ]
  },
  {
   "cell_type": "code",
   "execution_count": 56,
   "id": "328d1d29",
   "metadata": {
    "colab": {
     "base_uri": "https://localhost:8080/"
    },
    "id": "63Cfr2vnn5HU",
    "outputId": "14bbaeab-6dfd-4bad-c1fb-78ef2a8c2288"
   },
   "outputs": [
    {
     "name": "stdout",
     "output_type": "stream",
     "text": [
      "{'a': [1, 2], 'b': [2, 3], 'c': [4, 5]}\n"
     ]
    }
   ],
   "source": [
    "a_n = {\"a\": [1,2], 'b': [2,3], \"c\": [4,5]} \n",
    "# a, b, c - это ключи, списки - значения\n",
    "print(a_n)"
   ]
  },
  {
   "cell_type": "code",
   "execution_count": null,
   "id": "e620f941",
   "metadata": {
    "colab": {
     "base_uri": "https://localhost:8080/"
    },
    "id": "h9RnIMu-oDke",
    "outputId": "f02f2e4a-0c94-4b15-86c6-32105fd50a25"
   },
   "outputs": [
    {
     "name": "stdout",
     "output_type": "stream",
     "text": [
      "{'A': 67, 'B': 903}\n"
     ]
    }
   ],
   "source": [
    "# с помощью функции dict()\n",
    "d = dict(A=67, B=903) # list(), int(), str(), bool()....\n",
    "print(d)"
   ]
  },
  {
   "cell_type": "code",
   "execution_count": 31,
   "id": "b003043b",
   "metadata": {},
   "outputs": [
    {
     "name": "stdout",
     "output_type": "stream",
     "text": [
      "{'Rose': 25, 'Daisy': 27, 'Margarete': 56}\n"
     ]
    }
   ],
   "source": [
    "a = [\"Rose\", \"Daisy\", \"Margarete\"]\n",
    "b = [25, 27, 56] # только пары одного размера\n",
    "\n",
    "res = zip(a,b) # см Zip-объекты ниже\n",
    "res = dict(res) # сохраним словарь\n",
    "print(dict(res))"
   ]
  },
  {
   "cell_type": "code",
   "execution_count": 40,
   "id": "522e381c",
   "metadata": {
    "colab": {
     "base_uri": "https://localhost:8080/"
    },
    "id": "FTrSRiidUR3O",
    "outputId": "e480d032-1d7c-4d7d-aed0-7c28908ce475"
   },
   "outputs": [
    {
     "name": "stdout",
     "output_type": "stream",
     "text": [
      "{'Rose': 25, 'Daisy': 27, 'Margarete': 56}\n",
      "{'Rose': [25, 27, 56], 'Daisy': [25, 27, 56], 'Margarete': [25, 27, 56]}\n"
     ]
    }
   ],
   "source": [
    "a = [\"Rose\", \"Daisy\", \"Margarete\"]\n",
    "b = [25, 27, 56]\n",
    "\n",
    "d = {} # создадим словарь с помощью цикла # аналог zip\n",
    "\n",
    "# будем идти по индексам, т.к. списки одинакового размера\n",
    "\n",
    "for i in range(len(a)): # добавляем значения в существующий словарь\n",
    "  # range создает последовательность (0, 1, 2, 3....)\n",
    "  d[a[i]] = b[i]\n",
    "\n",
    "print(d)"
   ]
  },
  {
   "cell_type": "code",
   "execution_count": 35,
   "id": "4e576b5e",
   "metadata": {},
   "outputs": [
    {
     "name": "stdout",
     "output_type": "stream",
     "text": [
      "{'Rose': [25, 26]}\n",
      "[25, 26]\n"
     ]
    }
   ],
   "source": [
    "#создание словаря с помощью метода .fromkeys()\n",
    "\n",
    "res = dict.fromkeys([\"Rose\"], [25,26]) # список ключом быть не может, список - изменяемый объект\n",
    "print(res)\n",
    "print(res[\"Rose\"])"
   ]
  },
  {
   "cell_type": "markdown",
   "id": "8f24b088",
   "metadata": {},
   "source": [
    "#### Dict functions"
   ]
  },
  {
   "cell_type": "code",
   "execution_count": 32,
   "id": "2168c810",
   "metadata": {},
   "outputs": [
    {
     "name": "stdout",
     "output_type": "stream",
     "text": [
      "25\n"
     ]
    }
   ],
   "source": [
    "print(res[\"Rose\"]) # обращаемся по ключу (не индекс! индексов нет)"
   ]
  },
  {
   "cell_type": "code",
   "execution_count": 36,
   "id": "d9079dbc",
   "metadata": {},
   "outputs": [
    {
     "name": "stdout",
     "output_type": "stream",
     "text": [
      "{1: 'A', 2: 'B', 3: 'C', 4: 'D'}\n"
     ]
    }
   ],
   "source": [
    "d = {1: \"A\", 2: \"B\", 3: \"C\"}\n",
    "\n",
    "d[4] = \"D\" # добавляем пару, где ключ = 4, а значение = D\n",
    "print(d) # посмотрим на весь словарь"
   ]
  },
  {
   "cell_type": "code",
   "execution_count": 38,
   "id": "713c8786",
   "metadata": {
    "scrolled": true
   },
   "outputs": [
    {
     "name": "stdout",
     "output_type": "stream",
     "text": [
      "B\n",
      "W\n",
      "{1: 'A', 2: 'W', 3: 'C'}\n"
     ]
    }
   ],
   "source": [
    "# перезапишем значение по ключу \n",
    "d = {1: \"A\", 2: \"B\", 3: \"C\"}\n",
    "\n",
    "print(d[2])\n",
    "d[2] = \"W\" # если такой ключ уже есть, он перезапишется\n",
    "print(d[2])\n",
    "print(d)"
   ]
  },
  {
   "cell_type": "code",
   "execution_count": null,
   "id": "f05fc34c",
   "metadata": {},
   "outputs": [],
   "source": [
    "# присвоение по новому ключу расширяет словарь;\n",
    "# присвоение по существующему ключу перезаписывает его значение;\n",
    "# попытка извлечения несуществующего ключа вызывает исключение (KeyError)."
   ]
  },
  {
   "cell_type": "code",
   "execution_count": 83,
   "id": "9b70b060",
   "metadata": {
    "scrolled": true
   },
   "outputs": [
    {
     "name": "stdout",
     "output_type": "stream",
     "text": [
      "dict_values(['A', 'B', 'C'])\n",
      "['A', 'B', 'C']\n",
      "dict_keys([1, 2, 3])\n",
      "[1, 2, 3]\n",
      "[1, 2, 3]\n"
     ]
    }
   ],
   "source": [
    "# так можно посмотреть все значения всех ключей в словаре\n",
    "print(d.values())\n",
    "d_values = list(d.values())\n",
    "print(d_values)\n",
    "\n",
    "# так можно посмотреть все ключи в словаре\n",
    "print(d.keys())\n",
    "d_keys = list(d.keys()) \n",
    "print(d_keys)\n",
    "\n",
    "print(list(d)) # показать ключи в виде списка"
   ]
  },
  {
   "cell_type": "code",
   "execution_count": 46,
   "id": "72f89cc3",
   "metadata": {},
   "outputs": [
    {
     "name": "stdout",
     "output_type": "stream",
     "text": [
      "3\n"
     ]
    }
   ],
   "source": [
    "# длина словаря -- это количество ключей, количество пар\n",
    "print(len(d.keys()))"
   ]
  },
  {
   "cell_type": "code",
   "execution_count": 63,
   "id": "c0b1b159",
   "metadata": {},
   "outputs": [
    {
     "name": "stdout",
     "output_type": "stream",
     "text": [
      "[('Rose', 25), ('Daisy', 27), ('Margarete', 56)]\n",
      "(('Rose', 25), ('Daisy', 27), ('Margarete', 56))\n"
     ]
    }
   ],
   "source": [
    "# так можно посмотреть пары (ключ, значение) в виде списка кортежей\n",
    "print(list(d.items()))\n",
    "# список кортежей\n",
    "\n",
    "# аналогично list(zip(пара списков))\n",
    "print(*zip(*zip(d.items())))"
   ]
  },
  {
   "cell_type": "code",
   "execution_count": 64,
   "id": "574bbbd7",
   "metadata": {},
   "outputs": [
    {
     "name": "stdout",
     "output_type": "stream",
     "text": [
      "{1: 'A', 2: 'B', 3: 'C', 'Rose': 25, 'Daisy': 27, 'Margarete': 56}\n"
     ]
    }
   ],
   "source": [
    "# расширение словаря\n",
    "a = [\"Rose\", \"Daisy\", \"Margarete\"]\n",
    "b = [25, 27, 56]\n",
    "\n",
    "d = {1: \"A\", 2: \"B\", 3: \"C\"}\n",
    "e = dict(zip(a,b))\n",
    "\n",
    "d.update(e) # обновляет словарь, добавляя пары (ключ, значение)\n",
    "print(d)"
   ]
  },
  {
   "cell_type": "code",
   "execution_count": 67,
   "id": "39bfe007",
   "metadata": {},
   "outputs": [
    {
     "name": "stdout",
     "output_type": "stream",
     "text": [
      "A\n",
      "{2: 'B', 3: 'C'}\n"
     ]
    }
   ],
   "source": [
    "d = {1: \"A\", 2: \"B\", 3: \"C\"}\n",
    "print(d.pop(1)) # удаляет ключ и возвращает значение\n",
    "print(d)"
   ]
  },
  {
   "cell_type": "code",
   "execution_count": 2,
   "id": "8131844f",
   "metadata": {},
   "outputs": [
    {
     "name": "stdout",
     "output_type": "stream",
     "text": [
      "(3, 'C')\n",
      "{1: 'A', 2: 'B'}\n"
     ]
    }
   ],
   "source": [
    "d = {1: \"A\", 2: \"B\", 3: \"C\"}\n",
    "print(d.popitem()) # удаляет и возвращает пару ключ-значение с конца\n",
    "\n",
    "print(d)"
   ]
  },
  {
   "cell_type": "code",
   "execution_count": 72,
   "id": "5139958c",
   "metadata": {},
   "outputs": [
    {
     "name": "stdout",
     "output_type": "stream",
     "text": [
      "{}\n"
     ]
    }
   ],
   "source": [
    "# очищаем словарь\n",
    "d.clear() \n",
    "print(d)"
   ]
  },
  {
   "cell_type": "code",
   "execution_count": 6,
   "id": "b82eaec5",
   "metadata": {},
   "outputs": [
    {
     "name": "stdout",
     "output_type": "stream",
     "text": [
      "Unexpected!\n",
      "{1: 'A', 2: 'B', 3: 'C'}\n"
     ]
    }
   ],
   "source": [
    "d = {1: \"A\", 2: \"B\", 3: \"C\"}\n",
    "d.get(1) # получить значение по ключу\n",
    "d.get(5,\"Unexpected!\") # если значение не найдено, выводится параметр 2\n",
    "print(d.get(5,'Unexpected!'))\n",
    "print(d)"
   ]
  },
  {
   "cell_type": "code",
   "execution_count": 9,
   "id": "4da59310",
   "metadata": {},
   "outputs": [
    {
     "name": "stdout",
     "output_type": "stream",
     "text": [
      "D\n",
      "{1: 'A', 2: 'B', 3: 'C', 4: 'D'}\n"
     ]
    }
   ],
   "source": [
    "d.setdefault(4,'D') # получить значение по ключу и добавить значение-ключ, если их не было\n",
    "print(d.setdefault(4,'D'))\n",
    "print(d)"
   ]
  },
  {
   "cell_type": "markdown",
   "id": "788964b3",
   "metadata": {},
   "source": [
    "#### Zip - объекты"
   ]
  },
  {
   "cell_type": "code",
   "execution_count": 4,
   "id": "5b441b43",
   "metadata": {},
   "outputs": [
    {
     "name": "stdout",
     "output_type": "stream",
     "text": [
      "{'Rose': 25, 'Daisy': 27, 'Margarete': 56}\n"
     ]
    }
   ],
   "source": [
    "res = zip(a,b) # функция, которая создает zip-объект с кортежами, элементы каждого которых соответствуют соседним \n",
    "print(dict(res))\n",
    "\n",
    "c=(4,5,6,7)\n",
    "new_res = zip(a,b,c) # Zip объект может содержать итератор с большим количеством элементов, чем остальные, эти элементы выбрасываются"
   ]
  },
  {
   "cell_type": "code",
   "execution_count": 7,
   "id": "4bed70c9",
   "metadata": {},
   "outputs": [
    {
     "name": "stdout",
     "output_type": "stream",
     "text": [
      "<zip object at 0x0000024F31249FC0>\n"
     ]
    }
   ],
   "source": [
    "print(zip(*[\"Rose\", \"Daisy\", \"Margarete\"]*12, strict=True)) # создание n-группы\n"
   ]
  },
  {
   "cell_type": "code",
   "execution_count": 73,
   "id": "7e25dde1",
   "metadata": {},
   "outputs": [
    {
     "name": "stdout",
     "output_type": "stream",
     "text": [
      "(1, 2, 3)\n",
      "(4, 5, 6)\n"
     ]
    }
   ],
   "source": [
    "x = [1, 2, 3]\n",
    "\n",
    "y = [4, 5, 6]\n",
    "\n",
    "list(zip(x, y))\n",
    "[(1, 4), (2, 5), (3, 6)]\n",
    "\n",
    "x2, y2 = zip(*zip(x, y)) # Распаковка с помощью оператора *\n",
    "\n",
    "x == list(x2) and y == list(y2)\n",
    "\n",
    "print(x2)\n",
    "print(y2)\n"
   ]
  },
  {
   "cell_type": "markdown",
   "id": "64ccf669",
   "metadata": {},
   "source": [
    "### Перебор контейнеров циклом"
   ]
  },
  {
   "cell_type": "code",
   "execution_count": 97,
   "id": "f87b7882",
   "metadata": {},
   "outputs": [
    {
     "name": "stdout",
     "output_type": "stream",
     "text": [
      "1\n",
      "<class 'int'>\n",
      "A\n",
      "unexpected!\n",
      "<class 'str'>\n",
      "B\n",
      "3\n",
      "<class 'int'>\n",
      "C\n"
     ]
    }
   ],
   "source": [
    "d = {1: \"A\", \"unexpected!\": \"B\", 3: \"C\"}\n",
    "for i in d: # перебор пар словаря отдельно\n",
    "  print(i)\n",
    "  print(d[i])"
   ]
  },
  {
   "cell_type": "code",
   "execution_count": 95,
   "id": "25dce24f",
   "metadata": {},
   "outputs": [
    {
     "name": "stdout",
     "output_type": "stream",
     "text": [
      "<class 'tuple'>\n",
      "(1, 'A')\n",
      "<class 'tuple'>\n",
      "('unexpected!', 'B')\n",
      "<class 'tuple'>\n",
      "(3, 'C')\n"
     ]
    }
   ],
   "source": [
    "for i in list(d.items()): # перебор пар словаря вместе, по кортежам\n",
    "  print(type(i))\n",
    "  print(i)"
   ]
  },
  {
   "cell_type": "code",
   "execution_count": 100,
   "id": "9683d05b",
   "metadata": {},
   "outputs": [
    {
     "name": "stdout",
     "output_type": "stream",
     "text": [
      "1 A\n",
      "unexpected! B\n",
      "3 C\n"
     ]
    }
   ],
   "source": [
    "for i, j in d.items():\n",
    "  print(i, j)"
   ]
  },
  {
   "cell_type": "code",
   "execution_count": 101,
   "id": "eb6b5a6e",
   "metadata": {
    "scrolled": true
   },
   "outputs": [
    {
     "name": "stdout",
     "output_type": "stream",
     "text": [
      "1 A\n",
      "unexpected! B\n",
      "3 C\n"
     ]
    }
   ],
   "source": [
    "for i in d:\n",
    "  print(i, d[i])"
   ]
  },
  {
   "cell_type": "markdown",
   "id": "9e11d914",
   "metadata": {},
   "source": [
    "### Сортировка контейнеров"
   ]
  },
  {
   "cell_type": "markdown",
   "id": "07b0d563",
   "metadata": {},
   "source": [
    "Как сортировать разные объекты?\n",
    "\n",
    "- функция sorted() - не изменяет исходный объект\n",
    "- метод .sort()"
   ]
  },
  {
   "cell_type": "code",
   "execution_count": 4,
   "id": "6ba3b192",
   "metadata": {},
   "outputs": [
    {
     "name": "stdout",
     "output_type": "stream",
     "text": [
      "[1, 2, 3, 4, 10]\n",
      "[10, 4, 3, 2, 1]\n"
     ]
    }
   ],
   "source": [
    "# по умолсанию числа сортируются в порядке возрастания\n",
    "\n",
    "\n",
    "a = [1,2,3,4,10]\n",
    "print(sorted(a))\n",
    "\n",
    "# можно развернуть: reverse\n",
    "print(sorted(a, reverse = True))"
   ]
  },
  {
   "cell_type": "markdown",
   "id": "aa75f5c8",
   "metadata": {},
   "source": [
    "Функцией sorted можно сортировать списки, кортежи, множества, словари (по ключам)\n",
    "sorted всегда возвращает **список**\n",
    "\n",
    "Метод .sort изменяет исходный объект => работает **только с изменяемыми** объектами"
   ]
  },
  {
   "cell_type": "code",
   "execution_count": 5,
   "id": "1e036e1b",
   "metadata": {},
   "outputs": [
    {
     "name": "stdout",
     "output_type": "stream",
     "text": [
      "[10000, 956, 52, 7, 1, -500]\n"
     ]
    }
   ],
   "source": [
    "a = [1, 7, -500, 956, 10000, 52]\n",
    "a.sort(reverse=True)\n",
    "print(a)"
   ]
  },
  {
   "cell_type": "code",
   "execution_count": null,
   "id": "9c999c56",
   "metadata": {},
   "outputs": [],
   "source": [
    "flowers = [['rose', 'red'], \n",
    "         ['violet', 'blue'],\n",
    "         ['daisy', 'white-yellow'],\n",
    "         ['marigold', 'yellow']]\n",
    "print(sorted(names)) # по умолчанию = по нулевому индексу => по алфавиту\n",
    "print(sorted(flowers, key=lambda a: a[1])) # правило сортировки - по 1 индексу"
   ]
  },
  {
   "cell_type": "code",
   "execution_count": null,
   "id": "4832f09e",
   "metadata": {},
   "outputs": [],
   "source": [
    "# аналог с обычной функцией\n",
    "def take_second(elem):\n",
    "    return elem[1]\n",
    "\n",
    "# random list\n",
    "random = [(2, 2), (3, 4), (4, 1), (1, 3)]\n",
    "\n",
    "# sort list with key\n",
    "sorted_list = sorted(random, key=take_second)\n",
    "\n",
    "\n",
    "# print list\n",
    "print('Sorted list:', sorted_list)"
   ]
  },
  {
   "cell_type": "code",
   "execution_count": null,
   "id": "f462e710",
   "metadata": {},
   "outputs": [],
   "source": [
    "print(sorted(flowers, key=len)) # по длине объектов"
   ]
  },
  {
   "cell_type": "markdown",
   "id": "155adbed",
   "metadata": {},
   "source": [
    "### Удаление контейнеров"
   ]
  },
  {
   "cell_type": "code",
   "execution_count": 108,
   "id": "5f82a3e2",
   "metadata": {},
   "outputs": [],
   "source": [
    "d = {1: \"A\", \"unexpected!\": \"B\", 3: \"C\"}\n",
    "del d #- удаление переменной и значения, если ему соответствует только одна переменная\n",
    "\n",
    "# print(d) - name 'd' is not defined"
   ]
  }
 ],
 "metadata": {
  "kernelspec": {
   "display_name": "Python 3 (ipykernel)",
   "language": "python",
   "name": "python3"
  },
  "language_info": {
   "codemirror_mode": {
    "name": "ipython",
    "version": 3
   },
   "file_extension": ".py",
   "mimetype": "text/x-python",
   "name": "python",
   "nbconvert_exporter": "python",
   "pygments_lexer": "ipython3",
   "version": "3.10.8"
  }
 },
 "nbformat": 4,
 "nbformat_minor": 5
}
