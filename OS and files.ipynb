{
 "cells": [
  {
   "cell_type": "markdown",
   "id": "33a60d78",
   "metadata": {},
   "source": [
    "# OS and files"
   ]
  },
  {
   "cell_type": "markdown",
   "id": "b0e8e6a3",
   "metadata": {},
   "source": [
    "Режими открытия файлов:\n",
    "    \n",
    "Режим\tОбозначение\n",
    "'r'\tоткрытие на чтение (является значением по умолчанию).\n",
    "'w'\tоткрытие на запись, содержимое файла удаляется, если файла не существует, создается новый.\n",
    "'x'\tоткрытие на запись, если файла не существует, иначе исключение.\n",
    "'a'\tоткрытие на дозапись, информация добавляется в конец файла.\n",
    "'b'\tоткрытие в двоичном режиме.\n",
    "'t'\tоткрытие в текстовом режиме (является значением по умолчанию).\n",
    "'+'\tоткрытие на чтение и запись\n",
    "\n",
    "Режимы могут быть объединены: например,'ra' - открытие для чтения и дозаписи.\n",
    "\n",
    "Последний аргумент (опциональный, его можно не указывать), encoding, нужен только в текстовом режиме чтения файла. Этот аргумент задает кодировку. Чтобы стандантные .txt-файлы читались без проблем, ставим encoding = utf-8"
   ]
  },
  {
   "cell_type": "code",
   "execution_count": 214,
   "id": "b9268eed",
   "metadata": {},
   "outputs": [],
   "source": [
    "import os"
   ]
  },
  {
   "cell_type": "markdown",
   "id": "83432d91",
   "metadata": {},
   "source": [
    "## Display local directory content"
   ]
  },
  {
   "cell_type": "code",
   "execution_count": 215,
   "id": "39a0ffb7",
   "metadata": {},
   "outputs": [
    {
     "name": "stdout",
     "output_type": "stream",
     "text": [
      "['.ipynb_checkpoints', 'Containers.ipynb', 'Data', 'OS and files.ipynb', 'Primary operands, functions and objects + lambda.ipynb', 'Regex.ipynb', 'String functions and format.ipynb']\n"
     ]
    }
   ],
   "source": [
    "print(os.listdir()) # список файлов и папок в директории, где запущена программа"
   ]
  },
  {
   "cell_type": "code",
   "execution_count": 216,
   "id": "e7616ec0",
   "metadata": {
    "scrolled": true
   },
   "outputs": [
    {
     "name": "stdout",
     "output_type": "stream",
     "text": [
      "['.ipynb_checkpoints', 'Containers.ipynb', 'Data', 'OS and files.ipynb', 'Primary operands, functions and objects + lambda.ipynb', 'Regex.ipynb', 'String functions and format.ipynb']\n"
     ]
    }
   ],
   "source": [
    "unsorted_file_list = os.listdir()\n",
    "sorted_file_list = sorted(unsorted_file_list) # функция сортировки\n",
    "print(sorted_file_list)"
   ]
  },
  {
   "cell_type": "markdown",
   "id": "63d286cd",
   "metadata": {},
   "source": [
    "## File path"
   ]
  },
  {
   "cell_type": "markdown",
   "id": "9c2acf18",
   "metadata": {},
   "source": [
    "#### Check file type and path"
   ]
  },
  {
   "cell_type": "code",
   "execution_count": 217,
   "id": "55bc38f7",
   "metadata": {},
   "outputs": [
    {
     "name": "stdout",
     "output_type": "stream",
     "text": [
      "True\n",
      "True\n",
      "False\n"
     ]
    }
   ],
   "source": [
    "print(os.path.exists(\"Data\"))\n",
    "print(os.path.isdir(\"Data\"))\n",
    "print(os.path.isfile(\"Data\"))"
   ]
  },
  {
   "cell_type": "markdown",
   "id": "9664add5",
   "metadata": {},
   "source": [
    "## File operations"
   ]
  },
  {
   "cell_type": "markdown",
   "id": "ae526e2b",
   "metadata": {},
   "source": [
    "#### Create empty file:"
   ]
  },
  {
   "cell_type": "code",
   "execution_count": 218,
   "id": "da3e3bba",
   "metadata": {},
   "outputs": [
    {
     "name": "stdout",
     "output_type": "stream",
     "text": [
      "['.ipynb_checkpoints', 'Containers.ipynb', 'Data', 'empty.txt', 'OS and files.ipynb', 'Primary operands, functions and objects + lambda.ipynb', 'Regex.ipynb', 'String functions and format.ipynb']\n"
     ]
    }
   ],
   "source": [
    "with open('empty.txt', 'x'): # есть и другие режимы, но о них позднее: 'r', 'w', 'a' \n",
    "    pass # не делает ничего\n",
    "\n",
    "# try:\n",
    "#   действия\n",
    "# except:\n",
    "#   pass\n",
    "\n",
    "print(os.listdir()) # проверим, что файл появился"
   ]
  },
  {
   "cell_type": "markdown",
   "id": "e251f74f",
   "metadata": {},
   "source": [
    "#### Create folder"
   ]
  },
  {
   "cell_type": "code",
   "execution_count": 219,
   "id": "267ed9ae",
   "metadata": {},
   "outputs": [
    {
     "name": "stdout",
     "output_type": "stream",
     "text": [
      "True\n"
     ]
    }
   ],
   "source": [
    "os.mkdir('Test')\n",
    "print(os.path.isdir('Test')) # Check"
   ]
  },
  {
   "cell_type": "markdown",
   "id": "de51f0a5",
   "metadata": {},
   "source": [
    "#### Create multiple folders, one in another"
   ]
  },
  {
   "cell_type": "code",
   "execution_count": 220,
   "id": "497650db",
   "metadata": {},
   "outputs": [
    {
     "name": "stdout",
     "output_type": "stream",
     "text": [
      "['.ipynb_checkpoints', '1', 'Containers.ipynb', 'Data', 'empty.txt', 'OS and files.ipynb', 'Primary operands, functions and objects + lambda.ipynb', 'Regex.ipynb', 'String functions and format.ipynb', 'Test']\n"
     ]
    }
   ],
   "source": [
    "os.makedirs(os.path.join('1','2','3','4','5'))\n",
    "print(os.listdir()) # Check"
   ]
  },
  {
   "cell_type": "code",
   "execution_count": 221,
   "id": "d3653150",
   "metadata": {},
   "outputs": [
    {
     "name": "stdout",
     "output_type": "stream",
     "text": [
      "['2']\n",
      "[('1', ['2'], []), ('1\\\\2', ['3'], []), ('1\\\\2\\\\3', ['4'], []), ('1\\\\2\\\\3\\\\4', ['5'], []), ('1\\\\2\\\\3\\\\4\\\\5', [], [])]\n"
     ]
    }
   ],
   "source": [
    "print(os.listdir(\"1\")) # check\n",
    "print(list(os.walk(\"1\"))) # перечисляет все папки от топа вниз, в виде кортежа"
   ]
  },
  {
   "cell_type": "markdown",
   "id": "025738ad",
   "metadata": {},
   "source": [
    "## File operations"
   ]
  },
  {
   "cell_type": "markdown",
   "id": "f10574c9",
   "metadata": {},
   "source": [
    "#### Move file"
   ]
  },
  {
   "cell_type": "code",
   "execution_count": 222,
   "id": "5da3ff4b",
   "metadata": {},
   "outputs": [],
   "source": [
    "import shutil"
   ]
  },
  {
   "cell_type": "markdown",
   "id": "6180a5ee",
   "metadata": {},
   "source": [
    "Функция shutil.move(source, destination) позволяет вам переместить любой файл или папку (даже непустую). Обратите внимание, что если destination — это уже существующая папка, то файл/папка будет перемещена внутрь неё, в остальных случаях файл/папка будут скопированы точно по нужному адресу. В случае успеха, функция вернёт новое местоположение файла. Если destination существует и не является папкой, то будет выброшена ошибка."
   ]
  },
  {
   "cell_type": "code",
   "execution_count": 223,
   "id": "e42fb83f",
   "metadata": {},
   "outputs": [
    {
     "name": "stdout",
     "output_type": "stream",
     "text": [
      "['empty.txt']\n"
     ]
    }
   ],
   "source": [
    "shutil.move('empty.txt', 'Test')\n",
    "print(os.listdir('Test'))"
   ]
  },
  {
   "cell_type": "code",
   "execution_count": 224,
   "id": "4ccd5eb9",
   "metadata": {},
   "outputs": [
    {
     "data": {
      "text/plain": [
       "'.\\\\empty.txt'"
      ]
     },
     "execution_count": 224,
     "metadata": {},
     "output_type": "execute_result"
    }
   ],
   "source": [
    "shutil.move(os.path.join('Test', 'empty.txt'), '.') # '.' - переместить на уровень выше\n",
    "# shutil.move(os.path.join('2', 'empty.txt'), '..') # '..' - помести на два уровеня выше\n"
   ]
  },
  {
   "cell_type": "markdown",
   "id": "5433cf4a",
   "metadata": {},
   "source": [
    "#### Rename file"
   ]
  },
  {
   "cell_type": "code",
   "execution_count": 225,
   "id": "d0f7ede0",
   "metadata": {
    "scrolled": true
   },
   "outputs": [
    {
     "name": "stdout",
     "output_type": "stream",
     "text": [
      "['.ipynb_checkpoints', '1', 'Containers.ipynb', 'Data', 'full.txt', 'OS and files.ipynb', 'Primary operands, functions and objects + lambda.ipynb', 'Regex.ipynb', 'String functions and format.ipynb', 'Test']\n"
     ]
    }
   ],
   "source": [
    "shutil.move(\"empty.txt\", \"full.txt\") # такое перемещение - и есть переименование\n",
    "print(os.listdir()) # проверим"
   ]
  },
  {
   "cell_type": "code",
   "execution_count": 226,
   "id": "d894df39",
   "metadata": {},
   "outputs": [],
   "source": [
    "os.rename('full.txt', 'Roses.txt') # то же самое другим способом"
   ]
  },
  {
   "cell_type": "markdown",
   "id": "da415bb9",
   "metadata": {},
   "source": [
    "#### Copy file"
   ]
  },
  {
   "cell_type": "code",
   "execution_count": 227,
   "id": "5fb39c99",
   "metadata": {},
   "outputs": [
    {
     "name": "stdout",
     "output_type": "stream",
     "text": [
      "['Roses.txt']\n"
     ]
    }
   ],
   "source": [
    "shutil.copy('Roses.txt', 'Test/Roses.txt')\n",
    "print(os.listdir('Test'))"
   ]
  },
  {
   "cell_type": "markdown",
   "id": "77b105da",
   "metadata": {},
   "source": [
    "Скопировать папку для операционной системы сложнее, ведь мы всегда хотим скопировать не только папку, но и её содержимое. Для копирования папок используйте `shutil.copytree(source, destination)`. Обратите внимание, что для этой функции `destination` всегда должно быть путём конечного расположения файлов и не может быть уже существующей папкой."
   ]
  },
  {
   "cell_type": "code",
   "execution_count": 228,
   "id": "5a9a31b6",
   "metadata": {
    "scrolled": true
   },
   "outputs": [
    {
     "name": "stdout",
     "output_type": "stream",
     "text": [
      "['Roses.txt']\n"
     ]
    }
   ],
   "source": [
    "shutil.copytree('Test', 'FLowers')\n",
    "print(os.listdir('Flowers'))"
   ]
  },
  {
   "cell_type": "markdown",
   "id": "36158219",
   "metadata": {},
   "source": [
    "#### Write to file"
   ]
  },
  {
   "cell_type": "code",
   "execution_count": 229,
   "id": "480c9bbb",
   "metadata": {},
   "outputs": [],
   "source": [
    "with open(\"Flowers/Roses.txt\", \"w\", encoding = \"utf-16\") as file:\n",
    "    file.write(\"Roses are red\")\n",
    "    \n",
    "# openfile = open('nicer newer folder/empty.txt', 'w')"
   ]
  },
  {
   "cell_type": "code",
   "execution_count": 230,
   "id": "0e63f308",
   "metadata": {},
   "outputs": [
    {
     "name": "stdout",
     "output_type": "stream",
     "text": [
      "Roses are red\n"
     ]
    }
   ],
   "source": [
    "with open(\"Flowers/Roses.txt\", \"r\", encoding = \"utf-16\") as file:\n",
    "    print(file.read())"
   ]
  },
  {
   "cell_type": "markdown",
   "id": "c9f46051",
   "metadata": {},
   "source": [
    "#### Delete file"
   ]
  },
  {
   "cell_type": "markdown",
   "id": "14198335",
   "metadata": {},
   "source": [
    "Удалить файл можно с помощью функции `os.remove`, а пустую папку с помощью функции `os.rmdir`.\n",
    "\n",
    "А вот для удаления папки с содержимым вновь понадобится `shutil`. Для удаления такой папки используйте `shutil.rmtree`.\n",
    "\n",
    "Будьте осторожны, команды удаления стирают файл, а не перемещают его в корзину, вне зависимости от операционной системы!"
   ]
  },
  {
   "cell_type": "code",
   "execution_count": 231,
   "id": "b1d32bc3",
   "metadata": {},
   "outputs": [
    {
     "name": "stdout",
     "output_type": "stream",
     "text": [
      "['.ipynb_checkpoints', '1', 'Containers.ipynb', 'Data', 'FLowers', 'OS and files.ipynb', 'Primary operands, functions and objects + lambda.ipynb', 'Regex.ipynb', 'String functions and format.ipynb', 'Test']\n"
     ]
    }
   ],
   "source": [
    "#Remove file\n",
    "os.remove('Roses.txt')\n",
    "os.remove('Test/Roses.txt')\n",
    "print(os.listdir())"
   ]
  },
  {
   "cell_type": "code",
   "execution_count": 232,
   "id": "3075b951",
   "metadata": {},
   "outputs": [],
   "source": [
    "os.rmdir('Test') # Удаляет только пустую папку!"
   ]
  },
  {
   "cell_type": "code",
   "execution_count": 233,
   "id": "e8cc23d3",
   "metadata": {},
   "outputs": [],
   "source": [
    "shutil.rmtree('1') # разом удалить, со всеми вложенными файлами"
   ]
  },
  {
   "cell_type": "markdown",
   "id": "ac85183b",
   "metadata": {},
   "source": [
    "## Change main directory"
   ]
  },
  {
   "cell_type": "code",
   "execution_count": 234,
   "id": "593c77db",
   "metadata": {},
   "outputs": [
    {
     "name": "stdout",
     "output_type": "stream",
     "text": [
      "C:\\Users\\andre\\Dev\\My Notebooks\n"
     ]
    }
   ],
   "source": [
    "print(os.getcwd()) # path to current directory"
   ]
  },
  {
   "cell_type": "code",
   "execution_count": 235,
   "id": "38f3aaa2",
   "metadata": {},
   "outputs": [
    {
     "name": "stdout",
     "output_type": "stream",
     "text": [
      "['.ipynb_checkpoints', 'Containers.ipynb', 'Data', 'FLowers', 'OS and files.ipynb', 'Primary operands, functions and objects + lambda.ipynb', 'Regex.ipynb', 'String functions and format.ipynb']\n"
     ]
    }
   ],
   "source": [
    "# os.chdir('Flowers') # Change main directory\n",
    "print(os.listdir())"
   ]
  },
  {
   "cell_type": "code",
   "execution_count": 236,
   "id": "07184d15",
   "metadata": {},
   "outputs": [],
   "source": [
    "shutil.rmtree('Flowers') # Clear the current directory"
   ]
  },
  {
   "cell_type": "markdown",
   "id": "ec4254b0",
   "metadata": {},
   "source": [
    "## File write/read modes"
   ]
  },
  {
   "cell_type": "code",
   "execution_count": 237,
   "id": "507ec0a2",
   "metadata": {},
   "outputs": [],
   "source": [
    "with open(\"Data/city_smells.txt\", \"r\") as file: # воспользуемся встроенной функцией open()\n",
    "    pass"
   ]
  },
  {
   "cell_type": "code",
   "execution_count": 238,
   "id": "92b8ea3a",
   "metadata": {},
   "outputs": [],
   "source": [
    "with open(\"Roses are red.txt\", \"x\") as f:\n",
    "    print(\"Roses are red\\nViolets are blue\", file=f)"
   ]
  },
  {
   "cell_type": "code",
   "execution_count": 239,
   "id": "36592b13",
   "metadata": {},
   "outputs": [
    {
     "name": "stdout",
     "output_type": "stream",
     "text": [
      "<_io.TextIOWrapper name='Roses are red.txt' mode='r' encoding='utf-8'>\n"
     ]
    }
   ],
   "source": [
    "with open(\"Roses are red.txt\", \"r\", encoding='utf-8') as file:\n",
    "    file.read()\n",
    "    # file.readline()\n",
    "    # file.readlines()\n",
    "print(file) # мы создали текстовое представление файла, но его нужно вывести с помощью функций"
   ]
  },
  {
   "cell_type": "code",
   "execution_count": 240,
   "id": "36d60c18",
   "metadata": {},
   "outputs": [
    {
     "name": "stdout",
     "output_type": "stream",
     "text": [
      "Roses are red\n",
      "Violets are blue\n",
      "\n"
     ]
    }
   ],
   "source": [
    "with open(\"Roses are red.txt\", \"r\", encoding='utf-8') as file:\n",
    "    print(file.read())\n",
    "    # print(file.readline())\n",
    "    # print(file.readlines())"
   ]
  },
  {
   "cell_type": "code",
   "execution_count": 241,
   "id": "10be68ed",
   "metadata": {},
   "outputs": [
    {
     "name": "stdout",
     "output_type": "stream",
     "text": [
      "Roses are red\n",
      "Violets are blue\n"
     ]
    }
   ],
   "source": [
    "# 2 вариант:\n",
    "with open(\"Roses are red.txt\", \"r\", encoding='utf-8') as file:\n",
    "    for i in file:\n",
    "      print(i.strip())"
   ]
  },
  {
   "cell_type": "markdown",
   "id": "34bdf08d",
   "metadata": {},
   "source": [
    "#### Write to file:"
   ]
  },
  {
   "cell_type": "markdown",
   "id": "73dff79a",
   "metadata": {},
   "source": [
    "Чтобы предыдущая информация не стиралась из файла при записи, откроем с режимом \"а\" "
   ]
  },
  {
   "cell_type": "code",
   "execution_count": 242,
   "id": "8108bc8e",
   "metadata": {},
   "outputs": [],
   "source": [
    "with open('Roses are red.txt', 'a') as file: \n",
    "    file.write(\"Daisies are cute\\n\")"
   ]
  },
  {
   "cell_type": "code",
   "execution_count": 243,
   "id": "778ecaab",
   "metadata": {},
   "outputs": [],
   "source": [
    "with open(\"Roses are red.txt\",'a') as f:\n",
    "    print(\"And so are you\", file=f)"
   ]
  },
  {
   "cell_type": "code",
   "execution_count": 244,
   "id": "cd201fa7",
   "metadata": {},
   "outputs": [
    {
     "name": "stdout",
     "output_type": "stream",
     "text": [
      "Roses are red\n",
      "Violets are blue\n",
      "Daisies are cute\n",
      "And so are you\n",
      "\n"
     ]
    }
   ],
   "source": [
    "with open(\"Roses are red.txt\",'r') as file: # читаем\n",
    "    print(file.read())"
   ]
  },
  {
   "cell_type": "code",
   "execution_count": 245,
   "id": "dcc03beb",
   "metadata": {},
   "outputs": [],
   "source": [
    "os.remove(\"Roses are red.txt\")"
   ]
  }
 ],
 "metadata": {
  "kernelspec": {
   "display_name": "Python 3 (ipykernel)",
   "language": "python",
   "name": "python3"
  },
  "language_info": {
   "codemirror_mode": {
    "name": "ipython",
    "version": 3
   },
   "file_extension": ".py",
   "mimetype": "text/x-python",
   "name": "python",
   "nbconvert_exporter": "python",
   "pygments_lexer": "ipython3",
   "version": "3.10.8"
  }
 },
 "nbformat": 4,
 "nbformat_minor": 5
}
