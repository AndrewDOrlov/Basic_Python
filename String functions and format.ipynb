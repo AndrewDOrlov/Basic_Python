{
 "cells": [
  {
   "cell_type": "markdown",
   "id": "1ffa7765",
   "metadata": {},
   "source": [
    "### Экранирование"
   ]
  },
  {
   "cell_type": "markdown",
   "id": "db784c64",
   "metadata": {},
   "source": [
    "esсаре-последователыюсти (экранированные последовательности) позволяют вставлять в строки специальные символы.\n",
    "\n",
    "Типичную еsсаре-последовательность образуют два символа: обратный слеш (\\) и дополнительный символ.\n",
    "\n",
    "> \\\\\\ Обратный слеш. Выводит :\\\\\n",
    "\n",
    "> \\\\' Апостроф, или одиночная кавычка. Выводит : '\n",
    "\n",
    "> \\\\\" Кавычка. Выводит : \"\n",
    "\n",
    "> \\n Новая строка . Перемещает курсор в начало следующей строки\n",
    "\n",
    "> \\t Горизонтальный отступ - символ табуляции. Перемещает курсор вправо на один отступ\n",
    "\n",
    "\n",
    "NB! символы экранирования пишем внутри строки, в её кавычках"
   ]
  },
  {
   "cell_type": "code",
   "execution_count": 13,
   "id": "92c5ac7e",
   "metadata": {
    "scrolled": true
   },
   "outputs": [
    {
     "name": "stdout",
     "output_type": "stream",
     "text": [
      "1: wow i can modify output now\n",
      "2: \\wow i can modify output now\n",
      "3: he said \"wow i can modify output now\"\n",
      "4: wow i can \"modify\" output now\n",
      "5: wow i can modify output \n",
      "now\n",
      "6: \twow i can \tmodify output now\n"
     ]
    }
   ],
   "source": [
    "print(\"1:\", \"wow i can modify output now\") # классика\n",
    "print(\"2:\",\"\\wow i can modify output now\") # добавили бэкслеш\n",
    "print(\"3:\",'he said \"wow i can modify output now\"') # добавили другие кавычки\n",
    "print(\"4:\",\"wow i can \\\"modify\\\" output now\") # еще один вариант с кавычками\n",
    "print(\"5:\",\"wow i can modify output \\nnow\") # перенос строки\n",
    "print(\"6:\",\"\\twow i can \\tmodify output now\") # табуляция"
   ]
  },
  {
   "cell_type": "code",
   "execution_count": null,
   "id": "b312bf92",
   "metadata": {},
   "outputs": [],
   "source": [
    "# синтаксис функции Print\n",
    "#см Primary operands\n",
    "\n",
    "name = \"Axwell\"\n",
    "print(\"Hello,\", name, sep=\"$\", end=\"@\")"
   ]
  },
  {
   "cell_type": "markdown",
   "id": "76d45282",
   "metadata": {},
   "source": [
    "### String functions"
   ]
  },
  {
   "cell_type": "code",
   "execution_count": 1,
   "id": "dd38d71d",
   "metadata": {
    "scrolled": true
   },
   "outputs": [
    {
     "name": "stdout",
     "output_type": "stream",
     "text": [
      "этих людей я позвал в кино \n",
      "я позвал в кино этих людей \n"
     ]
    }
   ],
   "source": [
    "line1 = \"я позвал в кино \" # создали строку\n",
    "line2 = \"этих людей \" # создали вторую\n",
    "\n",
    "concat = line2+line1 # новая переменная, в нее сохраним результат конкатенации первых двух переменных\n",
    "another_concat = line1+line2 # а это еще одна, мы снова конкатенируем, но в обратном порядке (!)\n",
    "\n",
    "# результаты! \n",
    "print(concat)\n",
    "print(another_concat)"
   ]
  },
  {
   "cell_type": "code",
   "execution_count": 33,
   "id": "961f69cc",
   "metadata": {},
   "outputs": [
    {
     "name": "stdout",
     "output_type": "stream",
     "text": [
      "добрый вечер добрый вечер \n",
      "привет\n",
      "привет\n",
      "привет\n",
      "привет\n",
      "\n"
     ]
    }
   ],
   "source": [
    "# дублировать строку в print()\n",
    "print(\"добрый вечер \" * 2)\n",
    "\n",
    "# можно то же самое, но сохранив строку в переменную\n",
    "line1 = \"привет\"+\"\\n\"\n",
    "print(line1 * 4)"
   ]
  },
  {
   "cell_type": "markdown",
   "id": "59fdc09d",
   "metadata": {},
   "source": [
    "#### доступ по индексу"
   ]
  },
  {
   "cell_type": "code",
   "execution_count": null,
   "id": "b2fda945",
   "metadata": {},
   "outputs": [],
   "source": [
    "строка - это итерируемый объект. Можем работать с элементами строки.\n",
    "\n",
    "!! нумерация элементов начинается с 0, т.е. первый элемент имеет индекс [0].\n",
    "\n",
    "Легкое правило запоминания - индекс всегда на 1 меньше чем настоящий номер элемента"
   ]
  },
  {
   "cell_type": "code",
   "execution_count": 34,
   "id": "a295867f",
   "metadata": {},
   "outputs": [
    {
     "name": "stdout",
     "output_type": "stream",
     "text": [
      "м\n",
      "п\n",
      "ь\n"
     ]
    }
   ],
   "source": [
    "new = \"мы пришли, чтобы кодить\"\n",
    "print(new[0]) # хотим напечатать первый элемент в сторке\n",
    "print(new[3]) # печатаем 4й элемент\n",
    "print(new[-1])# хотим последний элемент, он же первый с конца"
   ]
  },
  {
   "cell_type": "markdown",
   "id": "f483f321",
   "metadata": {},
   "source": [
    "#### Извлечение среза\n"
   ]
  },
  {
   "cell_type": "markdown",
   "id": "fc6bafab",
   "metadata": {},
   "source": [
    "Оператор извлечения среза: [x:y], где x – начало среза, а y – окончание;\n",
    "Обратите внимание, что **символ с номером y (верхняя граница) в срез не входит.**\n",
    "По умолчанию первый индекс равен 0, а второй троки."
   ]
  },
  {
   "cell_type": "code",
   "execution_count": 39,
   "id": "e9a00edc",
   "metadata": {},
   "outputs": [
    {
     "name": "stdout",
     "output_type": "stream",
     "text": [
      "мы пришли, чтобы кодить\n",
      "пришли\n",
      "пришли, чтобы кодит\n",
      "мы \n",
      "пришли, чтобы кодить\n",
      "м рши тб оиь\n",
      "мы пришли, чтобы кодить\n",
      "пришли\n",
      "пришли, чтобы кодит\n",
      "мы \n",
      "пришли, чтобы кодить\n",
      "м рши тб оиь\n",
      "мы пришли, чтобы кодить\n",
      "пришли\n",
      "пришли, чтобы кодит\n",
      "мы \n",
      "пришли, чтобы кодить\n",
      "м рши тб оиь\n",
      "ьио бт ишр м\n",
      "мы пришли, чтобы кодить\n"
     ]
    }
   ],
   "source": [
    "print(new) # сначала напечатаем строку целиком\n",
    "print(new[3:9]) # а теперь напечатаем элементы строки, с четвертого по десятый\n",
    "\n",
    "piece = new[3:-1] # сохраним элементы с четвертого до последнего\n",
    "print(piece) # давайте напечатаем сохраненное на предыдущем шаге\n",
    "\n",
    "print(new[:3]) # напечатаетм слайс/срез элементов с первого до третьего, третий не напечатается\n",
    "print(new[3:]) # напечатаетм слайс/срез элементов с четвертого и до конца\n",
    "\n",
    "print(new[::2])\n",
    "print(new) # сначала напечатаем строку целиком\n",
    "print(new[3:9]) # а теперь напечатаем элементы строки, с четвертого по десятый\n",
    "\n",
    "piece = new[3:-1] # сохраним элементы с четвертого до последнего\n",
    "print(piece) # давайте напечатаем сохраненное на предыдущем шаге\n",
    "\n",
    "print(new[:3]) # напечатаетм слайс/срез элементов с первого до третьего, третий не напечатается\n",
    "print(new[3:]) # напечатаетм слайс/срез элементов с четвертого и до конца\n",
    "\n",
    "print(new[::2])\n",
    "print(new) # сначала напечатаем строку целиком\n",
    "print(new[3:9]) # а теперь напечатаем элементы строки, с четвертого по десятый\n",
    "\n",
    "piece = new[3:-1] # сохраним элементы с четвертого до последнего\n",
    "print(piece) # давайте напечатаем сохраненное на предыдущем шаге\n",
    "\n",
    "print(new[:3]) # напечатаетм слайс/срез элементов с первого до третьего, третий не напечатается\n",
    "print(new[3:]) # напечатаетм слайс/срез элементов с четвертого и до конца\n",
    "\n",
    "print(new[::2]) #каждый второй символ\n",
    "print(new[::-2]) #каждый второй символ в обратном порядке\n",
    "\n",
    "print(new[:]) # напечатаетм слайс/срез элементов, но так как они не заданы, они берутся по дефолту - первый и последний"
   ]
  },
  {
   "cell_type": "code",
   "execution_count": 2,
   "id": "f0029dbd",
   "metadata": {},
   "outputs": [
    {
     "name": "stdout",
     "output_type": "stream",
     "text": [
      "16\n",
      "11\n"
     ]
    }
   ],
   "source": [
    "# Выясняем длину строки функцией len()\n",
    "\n",
    "print(len(line1))\n",
    "print(len(line2))\n"
   ]
  },
  {
   "cell_type": "markdown",
   "id": "1edc1c32",
   "metadata": {},
   "source": [
    "### String methods"
   ]
  },
  {
   "cell_type": "markdown",
   "id": "c7d4bac4",
   "metadata": {},
   "source": [
    "Метод позволяет применить какую-либо операцию к строке\n",
    "\n",
    "строка.сделайчто-то(агрументы)\n",
    "\n",
    "переменная.метод(аргументы)"
   ]
  },
  {
   "cell_type": "markdown",
   "id": "8594191a",
   "metadata": {},
   "source": [
    "#### Делим строку методом split()\n"
   ]
  },
  {
   "cell_type": "code",
   "execution_count": 45,
   "id": "331099ad",
   "metadata": {},
   "outputs": [
    {
     "name": "stdout",
     "output_type": "stream",
     "text": [
      "['Prime', 'rose', 'is', 'a', 'flower,', 'is', 'it?']\n",
      "['Prime rose is a flower', ' is it?']\n",
      "['Prime', 'rose', 'is', 'a', 'flower,', 'is', 'it?']\n",
      "['Prime rose is a flower', ' is it?']\n"
     ]
    }
   ],
   "source": [
    "a = \"Prime rose is a flower, is it?\"\n",
    "print(a.split()) # если в скобках не задан разделитель, то разбивает по пробелам\n",
    "print(a.split(',')) # сделаем разделителем запятую\n",
    "\n",
    "# в результате получается список"
   ]
  },
  {
   "cell_type": "markdown",
   "id": "77f19fd6",
   "metadata": {},
   "source": [
    "#### Счетчик вхождений"
   ]
  },
  {
   "cell_type": "code",
   "execution_count": 24,
   "id": "27a6db8c",
   "metadata": {},
   "outputs": [
    {
     "name": "stdout",
     "output_type": "stream",
     "text": [
      "['Roses', 'are', 'red,', 'violets', 'are', 'blue.']\n",
      "2\n",
      "2\n"
     ]
    }
   ],
   "source": [
    "a = \"Roses are red, violets are blue.\"\n",
    "a_list=a.split()\n",
    "print(a_list)\n",
    "\n",
    "print(a.count('are'))\n",
    "print(a_list.count('are')) # счетчик количества вхождений"
   ]
  },
  {
   "cell_type": "markdown",
   "id": "19abfc23",
   "metadata": {},
   "source": [
    "#### Состоит ли строка из..."
   ]
  },
  {
   "cell_type": "code",
   "execution_count": 69,
   "id": "2b565df9",
   "metadata": {},
   "outputs": [
    {
     "name": "stdout",
     "output_type": "stream",
     "text": [
      "False\n",
      "True\n",
      "True\n",
      "False\n",
      "False\n",
      "False\n",
      "True\n"
     ]
    }
   ],
   "source": [
    "#Каждый из методов возвращает True или False, в зависимости оттого, выполняется ли условие\n",
    "\n",
    "c = \"Margarete\"\n",
    "print(c.isdigit())\t# Состоит ли строка из цифр\n",
    "print(c.isalpha())\t# Состоит ли строка из букв\n",
    "print(c.isalnum())\t# Состоит ли строка из цифр или букв\n",
    "print(c.islower())\t# Состоит ли строка из символов в нижнем регистре\n",
    "print(c.isupper())\t# Состоит ли строка из символов в верхнем регистре\n",
    "print(c.isspace())\t# Состоит ли строка из неотображаемых символов (пробел, символ перевода страницы ('\\f'), \"новая строка\" ('\\n'), \"перевод каретки\" ('\\r'), \"горизонтальная табуляция\" ('\\t') и \"вертикальная табуляция\" ('\\v'))\n",
    "print(c.istitle())\t# Начинаются ли слова в строке с заглавной буквы\n"
   ]
  },
  {
   "cell_type": "markdown",
   "id": "2009f49e",
   "metadata": {},
   "source": [
    "#### Меняем регистр"
   ]
  },
  {
   "cell_type": "code",
   "execution_count": null,
   "id": "8a629fd1",
   "metadata": {},
   "outputs": [],
   "source": [
    "a = \"Prime rose is a flower, is it?\"\n",
    "print(a.upper()) # Преобразование строки к верхнему регистру\n",
    "print(a.lower()) # Преобразование строки к нижнему регистру\n",
    "print(a.capitalize()) # Переводит первый символ строки в верхний регистр, а все остальные в нижний\n",
    "print(a.swapcase()) # Переводит символы нижнего регистра в верхний, а верхнего – в нижний\n",
    "print(a.title()) # Первую букву каждого слова переводит в верхний регистр, а все остальные в нижний"
   ]
  },
  {
   "cell_type": "code",
   "execution_count": 86,
   "id": "976ccb58",
   "metadata": {},
   "outputs": [
    {
     "name": "stdout",
     "output_type": "stream",
     "text": [
      "True\n",
      "False\n",
      "False\n",
      "True\n",
      "True\n",
      "True\n",
      "True\n",
      "False\n",
      "False\n",
      "False\n",
      "False\n",
      "True\n",
      "True\n"
     ]
    }
   ],
   "source": [
    "# примеры\n",
    "r = \"Rosesarered\"\n",
    "R=\"ROSESARERED\"\n",
    "n = \"123\"\n",
    "s = \"\\n\\t\"\n",
    "t = \"Roses Are Red\"\n",
    "print(r.isalpha())\n",
    "print(n.isalpha())\n",
    "\n",
    "print(r.isdigit())\n",
    "print(n.isdigit())\n",
    "\n",
    "print(r.isalnum())\n",
    "print(n.isalnum())\n",
    "\n",
    "print(R.isupper())\n",
    "print(r.isupper())\n",
    "\n",
    "print(r.islower())\n",
    "print(R.islower())\n",
    "\n",
    "print(n.isspace())\n",
    "print(s.isspace())\n",
    "\n",
    "print(t.istitle())"
   ]
  },
  {
   "cell_type": "markdown",
   "id": "1f1c68c8",
   "metadata": {},
   "source": [
    "#### Удаляем лишние символы"
   ]
  },
  {
   "cell_type": "code",
   "execution_count": 22,
   "id": "66a81f96",
   "metadata": {},
   "outputs": [
    {
     "name": "stdout",
     "output_type": "stream",
     "text": [
      "Prime rose    \n",
      "    Prime rose\n",
      "Prime rose\n"
     ]
    }
   ],
   "source": [
    "b = \"    Prime rose    \"\n",
    "print(b.lstrip())\t# Удаление пробельных символов в начале строки\n",
    "print(b.rstrip())\t# Удаление пробельных символов в конце строки\n",
    "print(b.strip())\t# Удаление пробельных символов в начале и в конце строки"
   ]
  },
  {
   "cell_type": "markdown",
   "id": "e33c1204",
   "metadata": {},
   "source": [
    "### String format functions"
   ]
  },
  {
   "cell_type": "markdown",
   "id": "7abfe902",
   "metadata": {},
   "source": [
    "#### предобработка"
   ]
  },
  {
   "cell_type": "code",
   "execution_count": 17,
   "id": "a78eac60",
   "metadata": {},
   "outputs": [
    {
     "name": "stdout",
     "output_type": "stream",
     "text": [
      "['roses', 'are', 'red,', 'violets', 'are', 'blue.']\n",
      "are\n",
      "red\n",
      "blue\n",
      "roses\n",
      "violets\n",
      "{'are', 'blue', 'red', 'roses', 'violets'}\n"
     ]
    }
   ],
   "source": [
    "a = \"Roses are red, violets are blue.\" #предобратобка\n",
    "a = a.lower().split()\n",
    "print(a)\n",
    "\n",
    "a=set(a)\n",
    "b=set()\n",
    "for i in a:\n",
    "    i=i.strip(\".-:!?–,\")\n",
    "    print(i)\n",
    "    b.add(i)\n",
    "print(b) # Набор чистых уникальных токенов"
   ]
  },
  {
   "cell_type": "code",
   "execution_count": null,
   "id": "eeedded0",
   "metadata": {},
   "outputs": [],
   "source": [
    "# функция, убирающая пунктуацию\n",
    "\n",
    "# str.maketrans задает таблицу замен для .translate(): text.translate(str.maketrans(1,2,3))\n",
    "\n",
    "#1 - что заменить\n",
    "#2 - на что заменить\n",
    "#3 - что убрать\n",
    "\n",
    "# string.punctuation - константа, содержащая образцы пунктуационных знаков\n",
    "# !\"#$%&'()*+,-./:;<=>?@[\\]^_`{|}~\n",
    "import string\n",
    "\n",
    "def normalize(text):\n",
    "    normalized = text.lower().translate(str.maketrans(\"\",\"\", string.punctuation)).split()\n",
    "    return normalized\n",
    "a = \"Roses are red, violets are blue. Is that true?\"\n",
    "print(set(normalize(a)))"
   ]
  },
  {
   "cell_type": "markdown",
   "id": "2c0eb82d",
   "metadata": {},
   "source": [
    "#### Format"
   ]
  },
  {
   "cell_type": "markdown",
   "id": "41dd3c38",
   "metadata": {},
   "source": [
    "Values:\n",
    "Arguments required. One or more values that should be formatted\n",
    "and inserted in the string.\n",
    "\n",
    "The values are either a list of values separated by commas,\n",
    "a key=value list, or a combination of both.\n",
    "\n",
    "The values can be of any data type."
   ]
  },
  {
   "cell_type": "markdown",
   "id": "40bde98e",
   "metadata": {},
   "source": [
    "The placeholders can be identified using named indexes {price},\n",
    "numbered indexes {0}, or even empty placeholders {}."
   ]
  },
  {
   "cell_type": "code",
   "execution_count": 26,
   "id": "08354cb4",
   "metadata": {},
   "outputs": [],
   "source": [
    "txt1 = \"My name is {fname}, I'm {age}\".format(fname = \"John\", age = 36)\n",
    "txt2 = \"My name is {0}, I'm {1}\".format(\"John\",36)\n",
    "txt3 = \"My name is {}, I'm {}\".format(\"John\",36) \n",
    "\n",
    "print(t)"
   ]
  },
  {
   "cell_type": "code",
   "execution_count": 30,
   "id": "e8659ff3",
   "metadata": {},
   "outputs": [
    {
     "name": "stdout",
     "output_type": "stream",
     "text": [
      "roses are red\n",
      "roses are red\n",
      "roses are red\n"
     ]
    }
   ],
   "source": [
    "verse1 = \"{flower}s are {color}\".format(flower=\"rose\", color=\"red\")\n",
    "print(verse1)\n",
    "\n",
    "verse2 = \"{0}s are {1}\".format(\"rose\",\"red\")\n",
    "print(verse2)\n",
    "\n",
    "verse3 = \"{}s are {}\".format(\"rose\",\"red\")\n",
    "print(verse3)"
   ]
  },
  {
   "cell_type": "code",
   "execution_count": null,
   "id": "d8163b0e",
   "metadata": {},
   "outputs": [],
   "source": [
    "#### Format strings"
   ]
  },
  {
   "cell_type": "code",
   "execution_count": null,
   "id": "3ba2eebb",
   "metadata": {},
   "outputs": [],
   "source": []
  },
  {
   "cell_type": "markdown",
   "id": "2ab7e7dc",
   "metadata": {},
   "source": [
    "### Функция-счетчик токенов"
   ]
  },
  {
   "cell_type": "code",
   "execution_count": 1,
   "id": "7605188d",
   "metadata": {},
   "outputs": [
    {
     "name": "stdout",
     "output_type": "stream",
     "text": [
      "{'mr': 1, 'and': 1, 'mrs': 1, 'dursley': 1, 'of': 1, 'number': 1, 'four': 1, 'privet': 1, 'drive': 1, 'were': 2, 'proud': 1, 'to': 1, 'say': 1, 'that': 1, 'they': 1, 'perfectly': 1, 'normal': 1, 'thank': 1, 'you': 1, 'very': 1, 'much': 1}\n",
      "[('and', 1), ('drive', 1), ('dursley', 1), ('four', 1), ('mr', 1), ('mrs', 1), ('much', 1), ('normal', 1), ('number', 1), ('of', 1), ('perfectly', 1), ('privet', 1), ('proud', 1), ('say', 1), ('thank', 1), ('that', 1), ('they', 1), ('to', 1), ('very', 1), ('were', 2), ('you', 1)]\n",
      "[('were', 2), ('and', 1), ('drive', 1), ('dursley', 1), ('four', 1), ('mr', 1), ('mrs', 1), ('much', 1), ('normal', 1), ('number', 1), ('of', 1), ('perfectly', 1), ('privet', 1), ('proud', 1), ('say', 1), ('thank', 1), ('that', 1), ('they', 1), ('to', 1), ('very', 1), ('you', 1)]\n"
     ]
    }
   ],
   "source": [
    "import string\n",
    "\n",
    "def normalize(text):\n",
    "    normalized = text.lower().translate(str.maketrans('', '', string.punctuation)).split()\n",
    "    return normalized\n",
    "\n",
    "text = \"Mr. and Mrs. Dursley, of number four, Privet Drive, were proud to say that they were perfectly normal, thank you very much.\"\n",
    "text_list = normalize(text)\n",
    "\n",
    "my_dict = {}\n",
    "for i in text_list:\n",
    "  my_dict[i] = my_dict.get(i, 0) + 1\n",
    "print(my_dict) # получили словарь: ключ - слово, значение - сколько раз слово встретилось в тексте\n",
    "\n",
    "# отсортируем:\n",
    "\n",
    "my_list = sorted(my_dict.items()) # словарь отсортируется по ключам (т.к. ключ - строка, отсортируется по алфавиту)\n",
    "print(my_list)\n",
    "\n",
    "# по алфавиту - хорошо, а по частоте встречаемости - еще лучше\n",
    "\n",
    "my_list.sort(key=lambda x: x[1], reverse=True) # key = по какому правилу сортировать: мы указали: по 1 индексу, то есть по частоте\n",
    "print(my_list)"
   ]
  },
  {
   "cell_type": "code",
   "execution_count": 2,
   "id": "6e1a6b96",
   "metadata": {},
   "outputs": [
    {
     "name": "stdout",
     "output_type": "stream",
     "text": [
      "[('were', 2), ('and', 1), ('drive', 1), ('dursley', 1), ('four', 1), ('mr', 1), ('mrs', 1), ('much', 1), ('normal', 1), ('number', 1), ('of', 1), ('perfectly', 1), ('privet', 1), ('proud', 1), ('say', 1), ('thank', 1), ('that', 1), ('they', 1), ('to', 1), ('very', 1), ('you', 1)]\n"
     ]
    }
   ],
   "source": [
    "def text_count(list):\n",
    "  my_dict = {}\n",
    "  for i in text_list:\n",
    "    my_dict[i] = my_dict.get(i, 0) + 1\n",
    "  my_list = sorted(my_dict.items()) # словарь отсортируется по ключам (т.к. ключ - строка, отсортируется по алфавиту)\n",
    "  my_list.sort(key=lambda x: x[1], reverse=True) # key = по какому правилу сортировать: мы указали: по 1 индексу, то есть по частоте\n",
    "  return my_list\n",
    "\n",
    "import string\n",
    "\n",
    "def normalize(text):\n",
    "    normalized = text.lower().translate(str.maketrans('', '', string.punctuation)).split()\n",
    "    return normalized\n",
    "\n",
    "text = \"Mr. and Mrs. Dursley, of number four, Privet Drive, were proud to say that they were perfectly normal, thank you very much.\"\n",
    "text_list = normalize(text)\n",
    "print(text_count(text_list))"
   ]
  }
 ],
 "metadata": {
  "kernelspec": {
   "display_name": "Python 3 (ipykernel)",
   "language": "python",
   "name": "python3"
  },
  "language_info": {
   "codemirror_mode": {
    "name": "ipython",
    "version": 3
   },
   "file_extension": ".py",
   "mimetype": "text/x-python",
   "name": "python",
   "nbconvert_exporter": "python",
   "pygments_lexer": "ipython3",
   "version": "3.10.8"
  }
 },
 "nbformat": 4,
 "nbformat_minor": 5
}
