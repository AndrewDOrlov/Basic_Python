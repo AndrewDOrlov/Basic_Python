{
 "cells": [
  {
   "cell_type": "markdown",
   "id": "c3e82c4a",
   "metadata": {},
   "source": [
    "### Основные операции с числами"
   ]
  },
  {
   "cell_type": "markdown",
   "id": "849fe8d2",
   "metadata": {},
   "source": [
    "основные операции с числами\n",
    "\n",
    "x + y Сложение\n",
    "\n",
    "x - y Вычитание\n",
    "b\n",
    "x * y Умножение\n",
    "\n",
    "x / y Деление\n",
    "\n",
    "x // y Получение целой части от деления\n",
    "\n",
    "x % y Остаток от деления\n",
    "\n",
    "-x Смена знака числа\n",
    "\n",
    "abs(x) Модуль числа\n",
    "\n",
    "x ** y Возведение в степень\n",
    "\n",
    "сравнение:\n",
    "== \"равно\" x == y (x равен y)\n",
    "\n",
    "!= \"не равно\" x != y (x не равен y)\n",
    "\n",
    "\\> \"меньше\"\n",
    "\n",
    "< \"больше\"\n",
    "\n",
    "\\>= \"меньше или равно\"\n",
    "\n",
    "<= \"больше или равно\""
   ]
  },
  {
   "cell_type": "code",
   "execution_count": null,
   "id": "d0f6b4ac",
   "metadata": {},
   "outputs": [],
   "source": [
    "### Input-output functions"
   ]
  },
  {
   "cell_type": "code",
   "execution_count": 7,
   "id": "f41614d9",
   "metadata": {},
   "outputs": [
    {
     "name": "stdout",
     "output_type": "stream",
     "text": [
      "Your ads hereDs!\n"
     ]
    },
    {
     "data": {
      "text/plain": [
       "'Ds!'"
      ]
     },
     "execution_count": 7,
     "metadata": {},
     "output_type": "execute_result"
    }
   ],
   "source": [
    "input(\"Your ads here\") # команда (функция) ввода, запрашивает ввод с клавиатуры\n",
    "# важно! ввод данных через input создает строку"
   ]
  },
  {
   "cell_type": "code",
   "execution_count": 4,
   "id": "17bf972e",
   "metadata": {},
   "outputs": [
    {
     "name": "stdout",
     "output_type": "stream",
     "text": [
      "Hello,$Axwell@"
     ]
    }
   ],
   "source": [
    "name = \"Axwell\"\n",
    "print(\"Hello,\", name, sep=\"$\", end=\"@\") # настраиваемый вывод"
   ]
  },
  {
   "cell_type": "code",
   "execution_count": 6,
   "id": "d93a2899",
   "metadata": {},
   "outputs": [
    {
     "data": {
      "text/plain": [
       "'Axwell'"
      ]
     },
     "metadata": {},
     "output_type": "display_data"
    }
   ],
   "source": [
    "display(name) # не настраиваемый вывод"
   ]
  },
  {
   "cell_type": "code",
   "execution_count": null,
   "id": "75a51b0c",
   "metadata": {},
   "outputs": [],
   "source": [
    "Переменные бывают разных типов:\n",
    "\n",
    "- логические True/False bool()\n",
    "- строка \"привет\" str()\n",
    "- число\n",
    " - целое 7 int()\n",
    " - дробное 7.0 float()\n",
    "- контейнер\n",
    "Проверить тип переменной можно с помощью функции type() где в скобках будет ваша переменная"
   ]
  },
  {
   "cell_type": "code",
   "execution_count": 9,
   "id": "bec4559f",
   "metadata": {},
   "outputs": [
    {
     "name": "stdout",
     "output_type": "stream",
     "text": [
      "23\n",
      "<class 'int'>\n"
     ]
    }
   ],
   "source": [
    "var = 23\n",
    "print(var) #выводим на печать значение, присвоенное переменной var\n",
    "print(type(var))"
   ]
  },
  {
   "cell_type": "code",
   "execution_count": 12,
   "id": "a09b4c36",
   "metadata": {},
   "outputs": [
    {
     "name": "stdout",
     "output_type": "stream",
     "text": [
      "<class 'str'>\n",
      "23\n",
      "<class 'int'>\n",
      "23.0\n",
      "<class 'float'>\n"
     ]
    }
   ],
   "source": [
    "var = \"23\"\n",
    "print(type(var))\n",
    "\n",
    "print(int(var))\n",
    "print(type(int(var)))\n",
    "\n",
    "print(float(var))\n",
    "print(type(float(var)))"
   ]
  },
  {
   "cell_type": "code",
   "execution_count": 22,
   "id": "24998964",
   "metadata": {},
   "outputs": [
    {
     "ename": "ValueError",
     "evalue": "invalid literal for int() with base 10: '120 001'",
     "output_type": "error",
     "traceback": [
      "\u001b[1;31m---------------------------------------------------------------------------\u001b[0m",
      "\u001b[1;31mValueError\u001b[0m                                Traceback (most recent call last)",
      "Cell \u001b[1;32mIn [22], line 3\u001b[0m\n\u001b[0;32m      1\u001b[0m \u001b[38;5;66;03m# не все типы данных превращаются друг в друга\u001b[39;00m\n\u001b[0;32m      2\u001b[0m num1 \u001b[38;5;241m=\u001b[39m \u001b[38;5;124m\"\u001b[39m\u001b[38;5;124m120 001\u001b[39m\u001b[38;5;124m\"\u001b[39m\n\u001b[1;32m----> 3\u001b[0m \u001b[38;5;28mprint\u001b[39m(\u001b[38;5;28;43mint\u001b[39;49m\u001b[43m(\u001b[49m\u001b[43mnum1\u001b[49m\u001b[43m)\u001b[49m)\n",
      "\u001b[1;31mValueError\u001b[0m: invalid literal for int() with base 10: '120 001'"
     ]
    }
   ],
   "source": [
    "# не все типы данных превращаются друг в друга\n",
    "num1 = \"120 001\"\n",
    "print(int(num1)) # invalid literal for int() with base 10: '120 001'"
   ]
  },
  {
   "cell_type": "code",
   "execution_count": 21,
   "id": "f51fa174",
   "metadata": {},
   "outputs": [
    {
     "name": "stdout",
     "output_type": "stream",
     "text": [
      "120.0\n"
     ]
    }
   ],
   "source": [
    "num2 = \"120,001\" \n",
    "print(float(num2)) # could not convert string to float: '120,001'"
   ]
  },
  {
   "cell_type": "code",
   "execution_count": 17,
   "id": "c9e186ac",
   "metadata": {
    "scrolled": false
   },
   "outputs": [
    {
     "ename": "TypeError",
     "evalue": "unsupported operand type(s) for +: 'float' and 'str'",
     "output_type": "error",
     "traceback": [
      "\u001b[1;31m---------------------------------------------------------------------------\u001b[0m",
      "\u001b[1;31mTypeError\u001b[0m                                 Traceback (most recent call last)",
      "Cell \u001b[1;32mIn [17], line 2\u001b[0m\n\u001b[0;32m      1\u001b[0m var3 \u001b[38;5;241m=\u001b[39m \u001b[38;5;124m\"\u001b[39m\u001b[38;5;124mhello\u001b[39m\u001b[38;5;124m\"\u001b[39m\n\u001b[1;32m----> 2\u001b[0m \u001b[38;5;28mprint\u001b[39m(\u001b[43mvar2\u001b[49m\u001b[43m \u001b[49m\u001b[38;5;241;43m+\u001b[39;49m\u001b[43m \u001b[49m\u001b[43mvar3\u001b[49m)\n",
      "\u001b[1;31mTypeError\u001b[0m: unsupported operand type(s) for +: 'float' and 'str'"
     ]
    }
   ],
   "source": [
    "var2 = 30.0\n",
    "var3 = \"hello\"\n",
    "print(var2 + var3) # unsupported operand type(s) for +: 'float' and 'str'"
   ]
  },
  {
   "cell_type": "code",
   "execution_count": 23,
   "id": "4bed754b",
   "metadata": {},
   "outputs": [
    {
     "name": "stdout",
     "output_type": "stream",
     "text": [
      "53.0\n"
     ]
    }
   ],
   "source": [
    "var1 = 23\n",
    "var2 = 30.0\n",
    "print(var1 + var2) # складывать можно только переменные схожих типов"
   ]
  },
  {
   "cell_type": "code",
   "execution_count": 26,
   "id": "9074c1db",
   "metadata": {},
   "outputs": [
    {
     "data": {
      "text/plain": [
       "'hellohellohello'"
      ]
     },
     "execution_count": 26,
     "metadata": {},
     "output_type": "execute_result"
    }
   ],
   "source": [
    "var2 = 3\n",
    "var3 = \"hello\"\n",
    "var2 * var3 #однако мы можем умножать строку на число"
   ]
  },
  {
   "cell_type": "markdown",
   "id": "0bd77352",
   "metadata": {},
   "source": [
    "### Создание функции"
   ]
  },
  {
   "cell_type": "code",
   "execution_count": 1,
   "id": "1e47365b",
   "metadata": {},
   "outputs": [
    {
     "name": "stdout",
     "output_type": "stream",
     "text": [
      "hi\n",
      "17\n",
      "['Anna', 'Iliana', 'Jane', 'Jack']\n",
      "['Anna', 'Iliana', 'Jane', 'Jack']\n"
     ]
    }
   ],
   "source": [
    "# функция с возвратом значения\n",
    "\n",
    "def add(x, y): # принимает аргументы\n",
    "    res = x + y\n",
    "    return res\n",
    "\n",
    "print(add(\"h\", \"i\")) # так мы вызвали функцию и передали аргументы в скобках\n",
    "print(add(7, 10)) \n",
    "print(add(['Anna', 'Iliana'], ['Jane', 'Jack']))\n",
    "l = add(['Anna', 'Iliana'], ['Jane', 'Jack']) # сохраним в переменную\n",
    "print(l)"
   ]
  },
  {
   "cell_type": "code",
   "execution_count": 12,
   "id": "110399d1",
   "metadata": {},
   "outputs": [
    {
     "name": "stdout",
     "output_type": "stream",
     "text": [
      "roses are red\n",
      "violets are blue\n"
     ]
    }
   ],
   "source": [
    "# именованные аргументы функции\n",
    "\n",
    "def flower_verse(flower, color):\n",
    "    print(flower+\"s\",\"are\", color)\n",
    "\n",
    "flower_verse(flower = \"rose\", color = \"red\")\n",
    "flower_verse(flower= \"violet\", color = \"blue\")"
   ]
  },
  {
   "cell_type": "code",
   "execution_count": 2,
   "id": "17211573",
   "metadata": {},
   "outputs": [
    {
     "name": "stdout",
     "output_type": "stream",
     "text": [
      "roses are red\n",
      "violets are blue\n",
      "and that is true"
     ]
    }
   ],
   "source": [
    "# именованные аргументы функции 2\n",
    "\n",
    "def flower_verse(flower, color):\n",
    "    return \"{0}s are {1}\".format(flower, color)\n",
    "\n",
    "a=flower_verse(flower = \"rose\", color = \"red\")\n",
    "b=flower_verse(flower= \"violet\", color = \"blue\")\n",
    "print(a, b, sep=\"\\n\", end = \"\\nand that is true\")"
   ]
  },
  {
   "cell_type": "code",
   "execution_count": null,
   "id": "e7cf3f1a",
   "metadata": {},
   "outputs": [],
   "source": []
  },
  {
   "cell_type": "code",
   "execution_count": null,
   "id": "41c902c4",
   "metadata": {},
   "outputs": [],
   "source": []
  },
  {
   "cell_type": "code",
   "execution_count": 3,
   "id": "f2ce9326",
   "metadata": {},
   "outputs": [
    {
     "name": "stdout",
     "output_type": "stream",
     "text": [
      "peonys are pink\n"
     ]
    }
   ],
   "source": [
    "print(flower_verse(\"peony\",\"pink\"))"
   ]
  },
  {
   "cell_type": "code",
   "execution_count": null,
   "id": "c7e92661",
   "metadata": {},
   "outputs": [],
   "source": []
  },
  {
   "cell_type": "code",
   "execution_count": null,
   "id": "b27822e1",
   "metadata": {},
   "outputs": [],
   "source": []
  },
  {
   "cell_type": "code",
   "execution_count": null,
   "id": "f36443dc",
   "metadata": {},
   "outputs": [],
   "source": []
  },
  {
   "cell_type": "code",
   "execution_count": null,
   "id": "7aef9f04",
   "metadata": {},
   "outputs": [],
   "source": []
  },
  {
   "cell_type": "markdown",
   "id": "ed625a32",
   "metadata": {},
   "source": [
    "### Lambda functions"
   ]
  },
  {
   "cell_type": "markdown",
   "id": "96c45a2d",
   "metadata": {},
   "source": [
    "Анонимные функции:\n",
    "\n",
    "могут содержать лишь одно действие\n",
    "- выполняются быстрее\n",
    "- не обязательно присваивать переменной (не нужен def)\n",
    "- не требуется return\n",
    "- обычно используются для одноразовых функций\n",
    "\n",
    "создаются с помощью ключевого слова lambda"
   ]
  },
  {
   "cell_type": "code",
   "execution_count": null,
   "id": "7952ca61",
   "metadata": {},
   "outputs": [],
   "source": [
    "lambda x, y: x + y  # до двоеточия - аргументы, после - действие\n",
    "\n",
    "func = lambda x, y: x + y # сохранить в переменную\n",
    "\n",
    "print(func(4, 7)) # вызываем\n",
    "\n",
    "#аналог:\n",
    "#def название_функции(x, y):\n",
    "#  return x + y"
   ]
  },
  {
   "cell_type": "code",
   "execution_count": null,
   "id": "3153875f",
   "metadata": {},
   "outputs": [],
   "source": [
    "lambda-функции используются в сочетании с сортировками\n",
    "\n",
    "- функция sorted() - не изменяет исходный объект\n",
    "- метод .sort()"
   ]
  },
  {
   "cell_type": "markdown",
   "id": "b958f7a5",
   "metadata": {
    "id": "9ST3zanbBXS3"
   },
   "source": [
    "Иногда нужно сортировать список списков, причем не по нулевому индексу - на помощь приходит параметр сортировки key, в который можно передать lambda-функцию"
   ]
  },
  {
   "cell_type": "code",
   "execution_count": 29,
   "id": "c697ca9c",
   "metadata": {},
   "outputs": [
    {
     "name": "stdout",
     "output_type": "stream",
     "text": [
      "[['daisy', 'white-yellow'], ['marigold', 'yellow'], ['rose', 'red'], ['violet', 'blue']]\n",
      "[['violet', 'blue'], ['rose', 'red'], ['daisy', 'white-yellow'], ['marigold', 'yellow']]\n"
     ]
    }
   ],
   "source": [
    "flowers = [['rose', 'red'], \n",
    "         ['violet', 'blue'],\n",
    "         ['daisy', 'white-yellow'],\n",
    "         ['marigold', 'yellow']]\n",
    "print(sorted(names)) # по умолчанию = по нулевому индексу => по алфавиту\n",
    "print(sorted(flowers, key=lambda a: a[1])) # правило сортировки - по 1 индексу"
   ]
  },
  {
   "cell_type": "code",
   "execution_count": null,
   "id": "d05589ae",
   "metadata": {},
   "outputs": [],
   "source": [
    "# аналог с обычной функцией\n",
    "def take_second(elem):\n",
    "    return elem[1]\n",
    "\n",
    "# random list\n",
    "random = [(2, 2), (3, 4), (4, 1), (1, 3)]\n",
    "\n",
    "# sort list with key\n",
    "sorted_list = sorted(random, key=take_second)\n",
    "\n",
    "\n",
    "# print list\n",
    "print('Sorted list:', sorted_list)"
   ]
  },
  {
   "cell_type": "code",
   "execution_count": 30,
   "id": "9ff99a27",
   "metadata": {},
   "outputs": [
    {
     "name": "stdout",
     "output_type": "stream",
     "text": [
      "[['rose', 'red'], ['violet', 'blue'], ['daisy', 'white-yellow'], ['marigold', 'yellow']]\n"
     ]
    }
   ],
   "source": [
    "print(sorted(flowers, key=len)) # по длине объектов"
   ]
  },
  {
   "cell_type": "code",
   "execution_count": null,
   "id": "b29cb7ce",
   "metadata": {},
   "outputs": [],
   "source": []
  }
 ],
 "metadata": {
  "kernelspec": {
   "display_name": "Python 3 (ipykernel)",
   "language": "python",
   "name": "python3"
  },
  "language_info": {
   "codemirror_mode": {
    "name": "ipython",
    "version": 3
   },
   "file_extension": ".py",
   "mimetype": "text/x-python",
   "name": "python",
   "nbconvert_exporter": "python",
   "pygments_lexer": "ipython3",
   "version": "3.10.8"
  }
 },
 "nbformat": 4,
 "nbformat_minor": 5
}
